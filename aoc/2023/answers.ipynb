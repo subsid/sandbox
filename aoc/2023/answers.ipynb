{
 "cells": [
  {
   "cell_type": "markdown",
   "id": "a4599b5a-28df-4fc0-aced-64f359558f6c",
   "metadata": {},
   "source": [
    "# AOC 2023"
   ]
  },
  {
   "cell_type": "markdown",
   "id": "53bb9341-5874-4f36-b2b8-b7537364fc1b",
   "metadata": {},
   "source": [
    "https://adventofcode.com/2023"
   ]
  },
  {
   "cell_type": "code",
   "execution_count": 238,
   "id": "a62aeaf0-bd5b-4a8c-9a7b-c5fa46d18c08",
   "metadata": {},
   "outputs": [],
   "source": [
    "from typing import List\n",
    "from collections import Counter"
   ]
  },
  {
   "cell_type": "markdown",
   "id": "9a5cddbd-ba2f-45f5-aede-2d3a3f3f3980",
   "metadata": {},
   "source": [
    "## Utils"
   ]
  },
  {
   "cell_type": "code",
   "execution_count": 209,
   "id": "21555f69-c80b-4d96-8a2a-c3f55714ddf9",
   "metadata": {},
   "outputs": [],
   "source": [
    "class Parser:\n",
    "    @staticmethod\n",
    "    def _read_file(filename, pp) -> List[str]:\n",
    "        return [pp(l.strip()) for l in open(filename, \"r\")]\n",
    "\n",
    "    @staticmethod\n",
    "    def _read_test_input(string, pp) -> List[str]:\n",
    "        return [pp(l.strip()) for l in string.split(\"\\n\") if len(l.strip()) > 0]\n",
    "    \n",
    "    @staticmethod\n",
    "    def parse_input(sample_str, filename, pp=lambda x: x):\n",
    "        return Parser._read_test_input(sample_str, pp), Parser._read_file(filename, pp)"
   ]
  },
  {
   "cell_type": "markdown",
   "id": "faa4cde6-3f9a-46e3-871e-1e387d526b54",
   "metadata": {},
   "source": [
    "## Day 1\n",
    "    "
   ]
  },
  {
   "cell_type": "markdown",
   "id": "e5379517-f571-4b42-9ceb-35064876c7e7",
   "metadata": {},
   "source": [
    "### Part 1"
   ]
  },
  {
   "cell_type": "markdown",
   "id": "f82fc39e-e66d-4903-9158-b1f59cf1af91",
   "metadata": {},
   "source": [
    "Find the first and last digit."
   ]
  },
  {
   "cell_type": "code",
   "execution_count": 211,
   "id": "7abe6bca-c867-4277-a514-bdc994334706",
   "metadata": {},
   "outputs": [],
   "source": [
    "sample_str = \"\"\"\n",
    "            1abc2\n",
    "            pqr3stu8vwx\n",
    "            a1b2c3d4e5f\n",
    "            treb7uchet\n",
    "            \"\"\"\n",
    "\n",
    "sample_input, file_input = Parser.parse_input(sample_str, \"data/day1.txt\")"
   ]
  },
  {
   "cell_type": "code",
   "execution_count": 212,
   "id": "8921fc62-61b8-48c2-bac7-d6bbb19cd15a",
   "metadata": {},
   "outputs": [],
   "source": [
    "def d1p1(test=False):\n",
    "    input = sample_input if test else file_input\n",
    "    \n",
    "    first, last = None, None\n",
    "    def find_digit(line):\n",
    "        for c in line:\n",
    "            if c.isdigit():\n",
    "                return c\n",
    "        return None\n",
    "\n",
    "    results = []\n",
    "    for line in input:\n",
    "        first, last = find_digit(line), find_digit(line[::-1])\n",
    "        results.append(int(first + last))\n",
    "        \n",
    "    return sum(results)"
   ]
  },
  {
   "cell_type": "code",
   "execution_count": 309,
   "id": "544c46be-4e76-42bc-8745-26b284b6e1cf",
   "metadata": {},
   "outputs": [
    {
     "data": {
      "text/plain": [
       "54644"
      ]
     },
     "execution_count": 309,
     "metadata": {},
     "output_type": "execute_result"
    }
   ],
   "source": [
    "assert day1(True) == 142\n",
    "day1()"
   ]
  },
  {
   "cell_type": "markdown",
   "id": "8f9a309b-eb38-42d3-b171-2977fbc25c0a",
   "metadata": {},
   "source": [
    "### Part 2\n",
    "\n",
    "Since we know that digit names are of length 3, 4, or 5 - we can check if a length k digit name matches from a given index. Do this if its not already a digit."
   ]
  },
  {
   "cell_type": "code",
   "execution_count": 311,
   "id": "d5c7bc84-26ff-44d1-87e5-0e15cfe27c22",
   "metadata": {},
   "outputs": [],
   "source": [
    "s2d = {\n",
    "    \"one\": \"1\",\n",
    "    \"two\": \"2\",\n",
    "    \"three\": \"3\",\n",
    "    \"four\": \"4\",\n",
    "    \"five\": \"5\",\n",
    "    \"six\": \"6\",\n",
    "    \"seven\": \"7\",\n",
    "    \"eight\": \"8\",\n",
    "    \"nine\": \"9\"\n",
    "}\n",
    "s2d_rev = {k[::-1]: v for k, v in s2d.items()}\n",
    "\n",
    "sample_str = \"\"\"\n",
    "    two1nine\n",
    "    eightwothree\n",
    "    abcone2threexyz\n",
    "    xtwone3four\n",
    "    4nineeightseven2\n",
    "    zoneight234\n",
    "    7pqrstsixteen\n",
    "\"\"\"\n",
    "sample_input, file_input = Parser.parse_input(sample_str, \"data/day1.txt\")\n",
    "\n",
    "def valid_digitname(str, start, valid_s2d):\n",
    "    # Is there a valid digitname from start index in the input string\n",
    "    \n",
    "    ends = [3, 4, 5]\n",
    "    # Possible lengths for valid digit names\n",
    "    ends = [3, 4, 5]\n",
    "    for e in ends:\n",
    "        candidate_name = str[start: start+e]\n",
    "        if candidate_name in valid_s2d:\n",
    "            return valid_s2d[candidate_name]\n",
    "    return None\n",
    "\n",
    "def find_digit(line, valid_s2d):\n",
    "        for i in range(0, len(line), 1):\n",
    "            c = line[i]\n",
    "            if c.isdigit():\n",
    "                return c\n",
    "            elif (d := valid_digitname(line, i, valid_s2d)):\n",
    "                return d\n",
    "        return None\n",
    "\n",
    "def d1p2(test=False):\n",
    "    input = sample_input if test else file_input\n",
    "    results = []\n",
    "    for line in input:\n",
    "        first = find_digit(line, s2d)\n",
    "        last = find_digit(line[::-1], s2d_rev)\n",
    "        results.append(int(first + last))\n",
    "        \n",
    "    return sum(results)"
   ]
  },
  {
   "cell_type": "code",
   "execution_count": 312,
   "id": "300a7244-b9af-40ab-82c1-df1ce5505cb0",
   "metadata": {},
   "outputs": [
    {
     "data": {
      "text/plain": [
       "53348"
      ]
     },
     "execution_count": 312,
     "metadata": {},
     "output_type": "execute_result"
    }
   ],
   "source": [
    "assert d1p2(True) == 281\n",
    "d1p2()"
   ]
  },
  {
   "cell_type": "markdown",
   "id": "c882236a-dd85-4215-997e-80fc7b6633c8",
   "metadata": {},
   "source": [
    "## Day 2"
   ]
  },
  {
   "cell_type": "markdown",
   "id": "30bb4be1-a5ee-40f5-a439-2dd1befa8fd8",
   "metadata": {},
   "source": [
    "### Part 1"
   ]
  },
  {
   "cell_type": "markdown",
   "id": "413f330a-db86-421a-8ac2-efbbfb7d0d04",
   "metadata": {},
   "source": [
    "This seems like a form of CSP. We have some predicate (valid cubes), for each line - check which lines satisfy the predicate."
   ]
  },
  {
   "cell_type": "code",
   "execution_count": 313,
   "id": "029e7925-6a7b-4ea4-87a9-8b309fb67c35",
   "metadata": {},
   "outputs": [],
   "source": [
    "sample_str = \"\"\"\n",
    "    Game 1: 3 blue, 4 red; 1 red, 2 green, 6 blue; 2 green\n",
    "    Game 2: 1 blue, 2 green; 3 green, 4 blue, 1 red; 1 green, 1 blue\n",
    "    Game 3: 8 green, 6 blue, 20 red; 5 blue, 4 red, 13 green; 5 green, 1 red\n",
    "    Game 4: 1 green, 3 red, 6 blue; 3 green, 6 red; 3 green, 15 blue, 14 red\n",
    "    Game 5: 6 red, 1 blue, 3 green; 2 blue, 1 red, 2 green\n",
    "\"\"\"\n",
    "\n",
    "def parse_line(line):\n",
    "    game, rest = line.split(\":\")\n",
    "    game_id = int(game.replace(\"Game \", \"\").strip())\n",
    "    \n",
    "    games = []\n",
    "    for g in rest.split(\";\"):\n",
    "        counts = Counter()\n",
    "        for hand in g.split(\",\"):\n",
    "            n, color = hand.strip().split(\" \")\n",
    "            counts[color.strip()] += int(n.strip())\n",
    "            \n",
    "        games.append(counts)\n",
    "    return game_id, games\n",
    "            \n",
    "sample_input, file_input = Parser.parse_input(sample_str, \"data/day2.txt\", pp=parse_line)"
   ]
  },
  {
   "cell_type": "code",
   "execution_count": 314,
   "id": "83300b8d-2655-46ee-a6f1-fd39be023d6f",
   "metadata": {},
   "outputs": [],
   "source": [
    "total_cubes = {\"red\": 12, \"green\": 13, \"blue\": 14}\n",
    "valid_hand = lambda picked: (picked[\"red\"] <= total_cubes[\"red\"] and\n",
    "    picked[\"green\"] <= total_cubes[\"green\"] and \n",
    "    picked[\"blue\"] <= total_cubes[\"blue\"])\n",
    "\n",
    "def d2p1(test=False):\n",
    "    input = sample_input if test else file_input\n",
    "    valid_ids = []\n",
    "    for game_id, game in input:\n",
    "        if all([valid_hand(hand) for hand in game]):\n",
    "            valid_ids.append(game_id)\n",
    "\n",
    "    return sum(valid_ids)"
   ]
  },
  {
   "cell_type": "code",
   "execution_count": 315,
   "id": "20de5a34-bf01-4587-bb4c-262b71358eeb",
   "metadata": {},
   "outputs": [
    {
     "data": {
      "text/plain": [
       "2551"
      ]
     },
     "execution_count": 315,
     "metadata": {},
     "output_type": "execute_result"
    }
   ],
   "source": [
    "assert d2p1(True) == 8\n",
    "d2p1()"
   ]
  },
  {
   "cell_type": "markdown",
   "id": "dacdcf38-412d-4715-b920-6e7006ac807a",
   "metadata": {},
   "source": [
    "### Part 2"
   ]
  },
  {
   "cell_type": "code",
   "execution_count": 318,
   "id": "d98ad1b2-14f7-4ac2-a643-a3b97bfdac22",
   "metadata": {},
   "outputs": [],
   "source": [
    "def update_min_cubes(candidate, best):\n",
    "    for c in [\"red\", \"green\", \"blue\"]:\n",
    "        best[c] = max(candidate[c], best[c])\n",
    "\n",
    "def game_power(hand):\n",
    "    return hand[\"red\"] * hand[\"blue\"] * hand[\"green\"]\n",
    "\n",
    "def d2p2(test=False):\n",
    "    input = sample_input if test else file_input\n",
    "    powers = []\n",
    "    for game_id, game in input:\n",
    "        min_cubes = {\"red\": 0, \"blue\": 0, \"green\": 0}\n",
    "        for hand in game:\n",
    "            update_min_cubes(hand, min_cubes)\n",
    "        powers.append(game_power(min_cubes))\n",
    "        \n",
    "    return sum(powers)"
   ]
  },
  {
   "cell_type": "code",
   "execution_count": 319,
   "id": "f55a92e2-16c1-4e50-a4d9-a2fca6ca1876",
   "metadata": {},
   "outputs": [
    {
     "data": {
      "text/plain": [
       "62811"
      ]
     },
     "execution_count": 319,
     "metadata": {},
     "output_type": "execute_result"
    }
   ],
   "source": [
    "assert d2p2(True) == 2286\n",
    "d2p2()"
   ]
  },
  {
   "cell_type": "markdown",
   "id": "e3b8bfea-7654-46e2-b6c9-8e5bed1a41ba",
   "metadata": {},
   "source": [
    "## Day 3"
   ]
  }
 ],
 "metadata": {
  "kernelspec": {
   "display_name": "Python 3 (ipykernel)",
   "language": "python",
   "name": "python3"
  },
  "language_info": {
   "codemirror_mode": {
    "name": "ipython",
    "version": 3
   },
   "file_extension": ".py",
   "mimetype": "text/x-python",
   "name": "python",
   "nbconvert_exporter": "python",
   "pygments_lexer": "ipython3",
   "version": "3.11.5"
  }
 },
 "nbformat": 4,
 "nbformat_minor": 5
}
