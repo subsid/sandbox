{
 "cells": [
  {
   "cell_type": "markdown",
   "id": "a4599b5a-28df-4fc0-aced-64f359558f6c",
   "metadata": {},
   "source": [
    "# AOC 2023"
   ]
  },
  {
   "cell_type": "markdown",
   "id": "53bb9341-5874-4f36-b2b8-b7537364fc1b",
   "metadata": {},
   "source": [
    "https://adventofcode.com/2023"
   ]
  },
  {
   "cell_type": "code",
   "execution_count": 2,
   "id": "a62aeaf0-bd5b-4a8c-9a7b-c5fa46d18c08",
   "metadata": {},
   "outputs": [],
   "source": [
    "from typing import List, Tuple\n",
    "from collections import Counter, abc\n",
    "from functools import reduce\n",
    "import re"
   ]
  },
  {
   "cell_type": "markdown",
   "id": "9a5cddbd-ba2f-45f5-aede-2d3a3f3f3980",
   "metadata": {},
   "source": [
    "## Utils"
   ]
  },
  {
   "cell_type": "code",
   "execution_count": 3,
   "id": "21555f69-c80b-4d96-8a2a-c3f55714ddf9",
   "metadata": {},
   "outputs": [],
   "source": [
    "class Parser:\n",
    "    @staticmethod\n",
    "    def _read_file(filename, pp) -> List[str]:\n",
    "        return [pp(l.strip()) for l in open(filename, \"r\")]\n",
    "\n",
    "    @staticmethod\n",
    "    def _read_test_input(string, pp) -> List[str]:\n",
    "        return [pp(l.strip()) for l in string.split(\"\\n\") if len(l.strip()) > 0]\n",
    "    \n",
    "    @staticmethod\n",
    "    def parse_input(sample_str, filename, pp=lambda x: x):\n",
    "        return Parser._read_test_input(sample_str, pp), Parser._read_file(filename, pp)\n",
    "\n",
    "\n",
    "class Grid(abc.Mapping):\n",
    "    \"\"\"\n",
    "        2D-grid keyed by (row, col) and value is content\n",
    "    \"\"\"\n",
    "    def __init__(self, lines: List[str]):\n",
    "        self._grid = {(r, c): v.strip()\n",
    "                        for r, line in enumerate(lines)\n",
    "                        for c, v in enumerate(line)}\n",
    "        self.directions = [(-1, -1), (-1, 0), (-1, 1), (0, -1), (0, 1), (1, -1), (1, 0), (1, 1)]\n",
    "        self.n_cols = len(lines[0])\n",
    "        self.n_rows = len(lines)\n",
    "\n",
    "    def valid(self, point):\n",
    "        r, c = point\n",
    "        return  (r >= 0 and r < (self.n_rows) and\n",
    "                 c >= 0 and c < (self.n_cols))\n",
    "\n",
    "    def __getitem__(self, point):\n",
    "        return self._grid[point[0], point[1]]\n",
    "\n",
    "    def __iter__(self):\n",
    "        return iter(self._grid)\n",
    "\n",
    "    def __len__(self):\n",
    "        return self.n_rows * self.n_cols\n",
    "        \n",
    "    def neighbors(self, cell):\n",
    "        r, c = cell\n",
    "        return [\n",
    "            ((r + rd), (c + cd))\n",
    "            for rd, cd in self.directions\n",
    "                if self.valid(((r + rd), (c + cd)))\n",
    "        ]"
   ]
  },
  {
   "cell_type": "markdown",
   "id": "faa4cde6-3f9a-46e3-871e-1e387d526b54",
   "metadata": {},
   "source": [
    "## Day 1\n",
    "    "
   ]
  },
  {
   "cell_type": "markdown",
   "id": "e5379517-f571-4b42-9ceb-35064876c7e7",
   "metadata": {},
   "source": [
    "### Part 1"
   ]
  },
  {
   "cell_type": "markdown",
   "id": "f82fc39e-e66d-4903-9158-b1f59cf1af91",
   "metadata": {},
   "source": [
    "Find the first and last digit."
   ]
  },
  {
   "cell_type": "code",
   "execution_count": 211,
   "id": "7abe6bca-c867-4277-a514-bdc994334706",
   "metadata": {},
   "outputs": [],
   "source": [
    "sample_str = \"\"\"\n",
    "            1abc2\n",
    "            pqr3stu8vwx\n",
    "            a1b2c3d4e5f\n",
    "            treb7uchet\n",
    "            \"\"\"\n",
    "\n",
    "sample_input, file_input = Parser.parse_input(sample_str, \"data/day1.txt\")"
   ]
  },
  {
   "cell_type": "code",
   "execution_count": 212,
   "id": "8921fc62-61b8-48c2-bac7-d6bbb19cd15a",
   "metadata": {},
   "outputs": [],
   "source": [
    "def d1p1(test=False):\n",
    "    input = sample_input if test else file_input\n",
    "    \n",
    "    first, last = None, None\n",
    "    def find_digit(line):\n",
    "        for c in line:\n",
    "            if c.isdigit():\n",
    "                return c\n",
    "        return None\n",
    "\n",
    "    results = []\n",
    "    for line in input:\n",
    "        first, last = find_digit(line), find_digit(line[::-1])\n",
    "        results.append(int(first + last))\n",
    "        \n",
    "    return sum(results)"
   ]
  },
  {
   "cell_type": "code",
   "execution_count": 309,
   "id": "544c46be-4e76-42bc-8745-26b284b6e1cf",
   "metadata": {},
   "outputs": [
    {
     "data": {
      "text/plain": [
       "54644"
      ]
     },
     "execution_count": 309,
     "metadata": {},
     "output_type": "execute_result"
    }
   ],
   "source": [
    "assert day1(True) == 142\n",
    "day1()"
   ]
  },
  {
   "cell_type": "markdown",
   "id": "8f9a309b-eb38-42d3-b171-2977fbc25c0a",
   "metadata": {},
   "source": [
    "### Part 2\n",
    "\n",
    "Since we know that digit names are of length 3, 4, or 5 - we can check if a length k digit name matches from a given index. Do this if its not already a digit."
   ]
  },
  {
   "cell_type": "code",
   "execution_count": 311,
   "id": "d5c7bc84-26ff-44d1-87e5-0e15cfe27c22",
   "metadata": {},
   "outputs": [],
   "source": [
    "s2d = {\n",
    "    \"one\": \"1\",\n",
    "    \"two\": \"2\",\n",
    "    \"three\": \"3\",\n",
    "    \"four\": \"4\",\n",
    "    \"five\": \"5\",\n",
    "    \"six\": \"6\",\n",
    "    \"seven\": \"7\",\n",
    "    \"eight\": \"8\",\n",
    "    \"nine\": \"9\"\n",
    "}\n",
    "s2d_rev = {k[::-1]: v for k, v in s2d.items()}\n",
    "\n",
    "sample_str = \"\"\"\n",
    "    two1nine\n",
    "    eightwothree\n",
    "    abcone2threexyz\n",
    "    xtwone3four\n",
    "    4nineeightseven2\n",
    "    zoneight234\n",
    "    7pqrstsixteen\n",
    "\"\"\"\n",
    "sample_input, file_input = Parser.parse_input(sample_str, \"data/day1.txt\")\n",
    "\n",
    "def valid_digitname(str, start, valid_s2d):\n",
    "    # Is there a valid digitname from start index in the input string\n",
    "    \n",
    "    ends = [3, 4, 5]\n",
    "    # Possible lengths for valid digit names\n",
    "    ends = [3, 4, 5]\n",
    "    for e in ends:\n",
    "        candidate_name = str[start: start+e]\n",
    "        if candidate_name in valid_s2d:\n",
    "            return valid_s2d[candidate_name]\n",
    "    return None\n",
    "\n",
    "def find_digit(line, valid_s2d):\n",
    "        for i in range(0, len(line), 1):\n",
    "            c = line[i]\n",
    "            if c.isdigit():\n",
    "                return c\n",
    "            elif (d := valid_digitname(line, i, valid_s2d)):\n",
    "                return d\n",
    "        return None\n",
    "\n",
    "def d1p2(test=False):\n",
    "    input = sample_input if test else file_input\n",
    "    results = []\n",
    "    for line in input:\n",
    "        first = find_digit(line, s2d)\n",
    "        last = find_digit(line[::-1], s2d_rev)\n",
    "        results.append(int(first + last))\n",
    "        \n",
    "    return sum(results)"
   ]
  },
  {
   "cell_type": "code",
   "execution_count": 312,
   "id": "300a7244-b9af-40ab-82c1-df1ce5505cb0",
   "metadata": {},
   "outputs": [
    {
     "data": {
      "text/plain": [
       "53348"
      ]
     },
     "execution_count": 312,
     "metadata": {},
     "output_type": "execute_result"
    }
   ],
   "source": [
    "assert d1p2(True) == 281\n",
    "d1p2()"
   ]
  },
  {
   "cell_type": "markdown",
   "id": "c882236a-dd85-4215-997e-80fc7b6633c8",
   "metadata": {},
   "source": [
    "## Day 2"
   ]
  },
  {
   "cell_type": "markdown",
   "id": "30bb4be1-a5ee-40f5-a439-2dd1befa8fd8",
   "metadata": {},
   "source": [
    "### Part 1"
   ]
  },
  {
   "cell_type": "markdown",
   "id": "413f330a-db86-421a-8ac2-efbbfb7d0d04",
   "metadata": {},
   "source": [
    "This seems like a form of CSP. We have some predicate (valid cubes), for each line - check which lines satisfy the predicate."
   ]
  },
  {
   "cell_type": "code",
   "execution_count": 313,
   "id": "029e7925-6a7b-4ea4-87a9-8b309fb67c35",
   "metadata": {},
   "outputs": [],
   "source": [
    "sample_str = \"\"\"\n",
    "    Game 1: 3 blue, 4 red; 1 red, 2 green, 6 blue; 2 green\n",
    "    Game 2: 1 blue, 2 green; 3 green, 4 blue, 1 red; 1 green, 1 blue\n",
    "    Game 3: 8 green, 6 blue, 20 red; 5 blue, 4 red, 13 green; 5 green, 1 red\n",
    "    Game 4: 1 green, 3 red, 6 blue; 3 green, 6 red; 3 green, 15 blue, 14 red\n",
    "    Game 5: 6 red, 1 blue, 3 green; 2 blue, 1 red, 2 green\n",
    "\"\"\"\n",
    "\n",
    "def parse_line(line):\n",
    "    game, rest = line.split(\":\")\n",
    "    game_id = int(game.replace(\"Game \", \"\").strip())\n",
    "    \n",
    "    games = []\n",
    "    for g in rest.split(\";\"):\n",
    "        counts = Counter()\n",
    "        for hand in g.split(\",\"):\n",
    "            n, color = hand.strip().split(\" \")\n",
    "            counts[color.strip()] += int(n.strip())\n",
    "            \n",
    "        games.append(counts)\n",
    "    return game_id, games\n",
    "            \n",
    "sample_input, file_input = Parser.parse_input(sample_str, \"data/day2.txt\", pp=parse_line)"
   ]
  },
  {
   "cell_type": "code",
   "execution_count": 314,
   "id": "83300b8d-2655-46ee-a6f1-fd39be023d6f",
   "metadata": {},
   "outputs": [],
   "source": [
    "total_cubes = {\"red\": 12, \"green\": 13, \"blue\": 14}\n",
    "valid_hand = lambda picked: (picked[\"red\"] <= total_cubes[\"red\"] and\n",
    "    picked[\"green\"] <= total_cubes[\"green\"] and \n",
    "    picked[\"blue\"] <= total_cubes[\"blue\"])\n",
    "\n",
    "def d2p1(test=False):\n",
    "    input = sample_input if test else file_input\n",
    "    valid_ids = []\n",
    "    for game_id, game in input:\n",
    "        if all([valid_hand(hand) for hand in game]):\n",
    "            valid_ids.append(game_id)\n",
    "\n",
    "    return sum(valid_ids)"
   ]
  },
  {
   "cell_type": "code",
   "execution_count": 315,
   "id": "20de5a34-bf01-4587-bb4c-262b71358eeb",
   "metadata": {},
   "outputs": [
    {
     "data": {
      "text/plain": [
       "2551"
      ]
     },
     "execution_count": 315,
     "metadata": {},
     "output_type": "execute_result"
    }
   ],
   "source": [
    "assert d2p1(True) == 8\n",
    "d2p1()"
   ]
  },
  {
   "cell_type": "markdown",
   "id": "dacdcf38-412d-4715-b920-6e7006ac807a",
   "metadata": {},
   "source": [
    "### Part 2"
   ]
  },
  {
   "cell_type": "code",
   "execution_count": 318,
   "id": "d98ad1b2-14f7-4ac2-a643-a3b97bfdac22",
   "metadata": {},
   "outputs": [],
   "source": [
    "def update_min_cubes(candidate, best):\n",
    "    for c in [\"red\", \"green\", \"blue\"]:\n",
    "        best[c] = max(candidate[c], best[c])\n",
    "\n",
    "def game_power(hand):\n",
    "    return hand[\"red\"] * hand[\"blue\"] * hand[\"green\"]\n",
    "\n",
    "def d2p2(test=False):\n",
    "    input = sample_input if test else file_input\n",
    "    powers = []\n",
    "    for game_id, game in input:\n",
    "        min_cubes = {\"red\": 0, \"blue\": 0, \"green\": 0}\n",
    "        for hand in game:\n",
    "            update_min_cubes(hand, min_cubes)\n",
    "        powers.append(game_power(min_cubes))\n",
    "        \n",
    "    return sum(powers)"
   ]
  },
  {
   "cell_type": "code",
   "execution_count": 319,
   "id": "f55a92e2-16c1-4e50-a4d9-a2fca6ca1876",
   "metadata": {},
   "outputs": [
    {
     "data": {
      "text/plain": [
       "62811"
      ]
     },
     "execution_count": 319,
     "metadata": {},
     "output_type": "execute_result"
    }
   ],
   "source": [
    "assert d2p2(True) == 2286\n",
    "d2p2()"
   ]
  },
  {
   "cell_type": "markdown",
   "id": "e3b8bfea-7654-46e2-b6c9-8e5bed1a41ba",
   "metadata": {},
   "source": [
    "## Day 3"
   ]
  },
  {
   "cell_type": "markdown",
   "id": "971bffb6-e1c2-43e7-bb6b-927a88764383",
   "metadata": {},
   "source": [
    "### Part 1"
   ]
  },
  {
   "cell_type": "markdown",
   "id": "5019e127-35c5-4bea-a4bc-e9e4311db904",
   "metadata": {},
   "source": [
    "The basic idea for this part is:\n",
    "\n",
    "- For every symbol, see if you can find a neighbor digit.\n",
    "    - If yes, expand left and right to find the full number\n",
    "    - Mark the indexes that contain the number and don't double count\n"
   ]
  },
  {
   "cell_type": "code",
   "execution_count": 44,
   "id": "8d797434-44ff-4c34-9bbf-beb5a2e15e56",
   "metadata": {},
   "outputs": [],
   "source": [
    "sample_str = \"\"\"\n",
    "    467..114..\n",
    "    ...*......\n",
    "    ..35..633.\n",
    "    ......#...\n",
    "    617*......\n",
    "    .....+.58.\n",
    "    ..592.....\n",
    "    ......755.\n",
    "    ...$.*....\n",
    "    .664.598..\n",
    "\"\"\"\n",
    "\n",
    "sample_input, file_input = Parser.parse_input(sample_str, \"data/day3.txt\")"
   ]
  },
  {
   "cell_type": "code",
   "execution_count": 98,
   "id": "c87a3319-1841-4c48-abb9-dfc1b7f6e23a",
   "metadata": {},
   "outputs": [],
   "source": [
    "def expand_to_number(point, grid):\n",
    "    # Expand index left and right to find the number\n",
    "    s = e = point[1]\n",
    "    while (s >= 0):\n",
    "        v_s = grid.get((point[0], s - 1), \"\")\n",
    "        if (v_s.isdigit()):\n",
    "            s -= 1\n",
    "        else:\n",
    "            break\n",
    "\n",
    "    while (e < grid.n_cols):\n",
    "        v_e = grid.get((point[0], e + 1), \"\")\n",
    "        if (v_e.isdigit()):\n",
    "            e += 1\n",
    "        else:\n",
    "            break\n",
    "    return (s, e)\n",
    "\n",
    "def make_number(left, right):\n",
    "    \n",
    "\n",
    "def d3p1(test=False):\n",
    "    grid = Grid(sample_input) if test else Grid(file_input)\n",
    "    seen = set()\n",
    "    parts = []\n",
    "    symbol_points = [p for p in grid if not grid.get(p).isdigit() and grid.get(p) != \".\"]\n",
    "    \n",
    "    for p in symbol_points:\n",
    "        neighbors = grid.neighbors(p)\n",
    "        for n in neighbors:\n",
    "            if (n not in seen) and (grid.get(n)).isdigit():\n",
    "                left, right = expand_to_number(n, grid)\n",
    "                digits = []\n",
    "                for i in range(left, right+1):\n",
    "                    p = (n[0], i)\n",
    "                    seen.add(p)\n",
    "                    digits.append(grid.get(p))\n",
    "                parts.append(int(\"\".join(digits)))\n",
    "    return sum(parts)"
   ]
  },
  {
   "cell_type": "code",
   "execution_count": 100,
   "id": "a32420d6-823e-40f3-aaa2-d6f6406dbf82",
   "metadata": {},
   "outputs": [
    {
     "data": {
      "text/plain": [
       "540025"
      ]
     },
     "execution_count": 100,
     "metadata": {},
     "output_type": "execute_result"
    }
   ],
   "source": [
    "assert d3p1(True) == 4361\n",
    "d3p1()"
   ]
  },
  {
   "cell_type": "markdown",
   "id": "7d688d60-4259-4be8-ad21-ab7ce6117351",
   "metadata": {},
   "source": [
    "### Part 2"
   ]
  },
  {
   "cell_type": "markdown",
   "id": "ae01da8f-0664-4526-b6f5-f632ad6153bd",
   "metadata": {},
   "source": [
    "Similar idea - find gears and multiply. Duplicates don't matter. Handle double counting of neighbors per gear."
   ]
  },
  {
   "cell_type": "code",
   "execution_count": 139,
   "id": "634c1ba0-2411-48a5-be44-8f28c0ba0395",
   "metadata": {},
   "outputs": [],
   "source": [
    "def get_gear_ratio(p, grid):\n",
    "    digit_neighbors = [n for n in grid.neighbors(p) if grid.get(n).isdigit()]\n",
    "    \n",
    "    # Prevents double counting of neighbors\n",
    "    seen = set({})\n",
    "    parts = []\n",
    "    \n",
    "    # Find all numbers surrounding gear.\n",
    "    for n in digit_neighbors:\n",
    "        if n in seen:\n",
    "            continue\n",
    "            \n",
    "        digits = []            \n",
    "        left, right = expand_to_number(n, grid)\n",
    "        for i in range(left, right+1):\n",
    "            p = (n[0], i)\n",
    "            digits.append(grid.get(p))\n",
    "            seen.add(p)\n",
    "        \n",
    "        parts.append(int(\"\".join(digits)))\n",
    "        \n",
    "    return parts[0] * parts[1] if len(parts) == 2 else None\n",
    "\n",
    "def d3p2(test=False):\n",
    "    grid = Grid(sample_input) if test else Grid(file_input)\n",
    "    gear_ratios = []\n",
    "    possible_gears = [p for p in grid if grid.get(p) == \"*\"]\n",
    "\n",
    "    for p in possible_gears:\n",
    "        if (r := get_gear_ratio(p, grid)) is not None:\n",
    "            gear_ratios.append(r)\n",
    "            \n",
    "    return sum(gear_ratios)"
   ]
  },
  {
   "cell_type": "code",
   "execution_count": 142,
   "id": "7241e164-a71f-4235-a400-41c7dd01d065",
   "metadata": {},
   "outputs": [
    {
     "data": {
      "text/plain": [
       "84584891"
      ]
     },
     "execution_count": 142,
     "metadata": {},
     "output_type": "execute_result"
    }
   ],
   "source": [
    "assert d3p2(True) == 467835\n",
    "d3p2()"
   ]
  },
  {
   "cell_type": "markdown",
   "id": "c6ef937d-35ad-41e0-b420-497c4dd76643",
   "metadata": {},
   "source": [
    "## Day 4"
   ]
  },
  {
   "cell_type": "markdown",
   "id": "d25de06d-ecc3-4b84-8c45-4099888d90df",
   "metadata": {},
   "source": [
    "### Part 1"
   ]
  },
  {
   "cell_type": "markdown",
   "id": "7a9a64a9-1244-41ce-89c2-4996eba36a26",
   "metadata": {},
   "source": [
    "There is some ambiguity on whether numbers can be repeated or not.\n",
    "- Let's assume the winning list and list of numbers on hand are unique. i.e You can only win once with a given number."
   ]
  },
  {
   "cell_type": "code",
   "execution_count": 30,
   "id": "adaa1a3c-1e57-4e01-bc1b-1cdcec308e02",
   "metadata": {},
   "outputs": [],
   "source": [
    "sample_str = \"\"\"\n",
    "Card 1: 41 48 83 86 17 | 83 86  6 31 17  9 48 53\n",
    "Card 2: 13 32 20 16 61 | 61 30 68 82 17 32 24 19\n",
    "Card 3:  1 21 53 59 44 | 69 82 63 72 16 21 14  1\n",
    "Card 4: 41 92 73 84 69 | 59 84 76 51 58  5 54 83\n",
    "Card 5: 87 83 26 28 32 | 88 30 70 12 93 22 82 36\n",
    "Card 6: 31 18 13 56 72 | 74 77 10 23 35 67 36 11\n",
    "\"\"\"\n",
    "\n",
    "def parse_line(line) -> Tuple[List[int], List[int]]:\n",
    "    card_name, numbers = line.split(\":\")\n",
    "    left, right = numbers.split(\"|\")\n",
    "    winners = [int(i.strip()) for i in left.strip().split(\" \") if len(i.strip()) > 0]\n",
    "    hand = [int(i.strip()) for i in right.strip().split(\" \") if len(i.strip()) > 0]\n",
    "    card_num = int(card_name.replace(\"Card \", \"\"))\n",
    "    \n",
    "    return card_num, winners, hand\n",
    "\n",
    "sample_input, file_input = Parser.parse_input(sample_str, \"data/day4.txt\", pp=parse_line)"
   ]
  },
  {
   "cell_type": "code",
   "execution_count": 31,
   "id": "2990732b-4e08-49de-a874-e305a0590318",
   "metadata": {},
   "outputs": [],
   "source": [
    "def d4p1(test=False):\n",
    "    input = sample_input if test else file_input\n",
    "    score = 0\n",
    "    for _, winning, hand in input:\n",
    "        n_wins = len(set(winning) & set(hand))\n",
    "        score += 2**(n_wins - 1) if n_wins > 0 else 0\n",
    "        \n",
    "    return score"
   ]
  },
  {
   "cell_type": "code",
   "execution_count": 32,
   "id": "dfb0046a-a0f8-4ecf-97bb-c75abe242a33",
   "metadata": {},
   "outputs": [
    {
     "data": {
      "text/plain": [
       "23750"
      ]
     },
     "execution_count": 32,
     "metadata": {},
     "output_type": "execute_result"
    }
   ],
   "source": [
    "assert d4p1(True) == 13\n",
    "d4p1()"
   ]
  },
  {
   "cell_type": "markdown",
   "id": "eb9b8137-c6e9-4086-b425-8f86ee477a3a",
   "metadata": {},
   "source": [
    "### Part 2"
   ]
  },
  {
   "cell_type": "markdown",
   "id": "5308f92c-5641-4a12-8712-bffc3546dc88",
   "metadata": {},
   "source": [
    "The key idea here is how it terminates. You only have to walk the sorted game list once  - since a winning hand will only create copies of _subsequent_ ids.\n",
    "The number of cards that we'll have to process in a future step can change based on current step. But past steps will not change. "
   ]
  },
  {
   "cell_type": "code",
   "execution_count": 33,
   "id": "b6164bc9-c9bf-472b-ae78-ae099862dcbc",
   "metadata": {},
   "outputs": [],
   "source": [
    "def get_copies(num_wins, curr_id, curr_id_copies):\n",
    "    ids = list(range(curr_id + 1, curr_id + num_wins + 1))\n",
    "    \n",
    "    return Counter({id: curr_id_copies for id in ids})\n",
    "    \n",
    "def d4p2(test=False):\n",
    "    input = sample_input if test else file_input\n",
    "    games = {c_num: (winning, hand) for c_num, winning, hand in input}\n",
    "    ids = sorted(games.keys())\n",
    "    # Initialize with one copy each\n",
    "    next_id_counts = Counter(list(games.keys()))\n",
    "    \n",
    "    for id in ids:\n",
    "        winning, hand = games[id]\n",
    "        n_wins = len(set(winning) & set(hand))\n",
    "        if n_wins > 0:\n",
    "            next_id_counts.update(get_copies(n_wins, id, next_id_counts[id]))\n",
    "            \n",
    "    return next_id_counts.total()"
   ]
  },
  {
   "cell_type": "code",
   "execution_count": 34,
   "id": "f7f2fbd3-bce4-4201-8200-90f243474d50",
   "metadata": {},
   "outputs": [
    {
     "data": {
      "text/plain": [
       "13261850"
      ]
     },
     "execution_count": 34,
     "metadata": {},
     "output_type": "execute_result"
    }
   ],
   "source": [
    "assert d4p2(True) == 30\n",
    "d4p2()"
   ]
  },
  {
   "cell_type": "markdown",
   "id": "e2ae5707-6289-4a55-946c-79a5ca49be4a",
   "metadata": {},
   "source": [
    "## Day 5"
   ]
  },
  {
   "cell_type": "markdown",
   "id": "38330652-7fec-4f5b-90f0-0a2346463b7a",
   "metadata": {},
   "source": [
    "### Part 1"
   ]
  },
  {
   "cell_type": "markdown",
   "id": "e888496d-b9eb-48dd-a695-1aebf53f9ae0",
   "metadata": {},
   "source": [
    "This one is fun. Basically we are given a bunch of constraints mapping sources to destinations. Goal is to compose them for a result. Knowing AOC, we can't expand \"ranges\" out to lists. Should instead create some abstraction to allow operations in ranges. "
   ]
  },
  {
   "cell_type": "code",
   "execution_count": 7,
   "id": "71cb638f-2c1c-4966-ac6b-973c6bfcca51",
   "metadata": {},
   "outputs": [],
   "source": [
    "sample_str = \"\"\"\n",
    "seeds: 79 14 55 13\n",
    "\n",
    "seed-to-soil map:\n",
    "50 98 2\n",
    "52 50 48\n",
    "\n",
    "soil-to-fertilizer map:\n",
    "0 15 37\n",
    "37 52 2\n",
    "39 0 15\n",
    "\n",
    "fertilizer-to-water map:\n",
    "49 53 8\n",
    "0 11 42\n",
    "42 0 7\n",
    "57 7 4\n",
    "\n",
    "water-to-light map:\n",
    "88 18 7\n",
    "18 25 70\n",
    "\n",
    "light-to-temperature map:\n",
    "45 77 23\n",
    "81 45 19\n",
    "68 64 13\n",
    "\n",
    "temperature-to-humidity map:\n",
    "0 69 1\n",
    "1 0 69\n",
    "\n",
    "humidity-to-location map:\n",
    "60 56 37\n",
    "56 93 4\n",
    "\"\"\"\n",
    "\n",
    "sample_input, file_input = Parser.parse_input(sample_str, \"data/day5.txt\") "
   ]
  },
  {
   "cell_type": "code",
   "execution_count": 8,
   "id": "4f34d02d-8858-4bb3-8551-f18b1b08c4a7",
   "metadata": {},
   "outputs": [],
   "source": [
    "def map_from_lines(start_line, sample_input):\n",
    "    i = start_line\n",
    "    map = S2DMap()\n",
    "\n",
    "    while (i < len(sample_input) and sample_input[i] != \"\" and not re.match(\".*map:\", sample_input[i])):\n",
    "        vals = [int(j) for j in sample_input[i].strip().split(\" \")]\n",
    "        map.add(vals[1], vals[0], vals[2])\n",
    "        i += 1\n",
    "    \n",
    "    return i, map   \n",
    "    \n",
    "class S2DMap:\n",
    "    def __init__(self):\n",
    "        self.maps = []\n",
    "\n",
    "    def add(self, source, dest, count):\n",
    "        self.maps.append((source, dest, count))\n",
    "                         \n",
    "    def get(self, key):\n",
    "        for source, dest, count in self.maps:\n",
    "            if key >= source and key < source + count:\n",
    "                return dest + (key - source)\n",
    "                \n",
    "        return key\n",
    "\n",
    "    def get_range(self, source_range):\n",
    "        remaining = [source_range]\n",
    "        to_range = lambda s, c: (s, s + count)\n",
    "        results = []\n",
    "        \n",
    "        # Find overlap of source with this map\n",
    "        for source, dest, count in self.maps:\n",
    "            s_range = to_range(source, count)\n",
    "            d_range = to_range(dest, count)\n",
    "            to_dest = lambda r: (d_range[0] + (r[0] - s_range[0]), d_range[0] + (r[1] - s_range[0]))\n",
    "\n",
    "            new_splits = []\n",
    "            for r in remaining:\n",
    "                match, no_matches = split_range(r, s_range) \n",
    "                results.append(to_dest(match)) if match else None\n",
    "                new_splits += no_matches\n",
    "            remaining = new_splits\n",
    "\n",
    "        if len(remaining) > 0:\n",
    "            # 1-1 default\n",
    "            results += remaining\n",
    "            \n",
    "        return results\n",
    "        \n",
    "class FoodMap:\n",
    "    def __init__(self, input_lines):\n",
    "        self.parse_lines(input_lines)\n",
    "        self.seed2loc_chain = [ \n",
    "            self.seed2soil,\n",
    "            self.soil2fert,\n",
    "            self.fert2water,\n",
    "            self.water2light,\n",
    "            self.light2temp,\n",
    "            self.temp2humid,\n",
    "            self.humid2loc\n",
    "        ]\n",
    "\n",
    "    def parse_lines(self, input):\n",
    "        i = 0\n",
    "        while i < len(input):\n",
    "            if re.match(\"seeds: \", input[i]):\n",
    "                self.seeds = [int(i) for i in input[i].split(\"seeds: \")[1].strip().split(\" \")]\n",
    "                i += 1\n",
    "            elif re.match(\"seed-to-soil map:\", input[i]):\n",
    "                i, self.seed2soil = map_from_lines(i + 1, input)\n",
    "            elif re.match(\"soil-to-fertilizer map:\", input[i]):\n",
    "                i, self.soil2fert = map_from_lines(i + 1, input)\n",
    "            elif re.match(\"fertilizer-to-water map:\", input[i]):\n",
    "                i, self.fert2water = map_from_lines(i + 1, input)\n",
    "            elif re.match(\"water-to-light map:\", input[i]):\n",
    "                i, self.water2light = map_from_lines(i + 1, input)\n",
    "            elif re.match(\"light-to-temperature map:\", input[i]):\n",
    "                i, self.light2temp = map_from_lines(i + 1, input)\n",
    "            elif re.match(\"temperature-to-humidity map:\", input[i]):\n",
    "                i, self.temp2humid = map_from_lines(i + 1, input)\n",
    "            elif re.match(\"humidity-to-location map:\", input[i]):\n",
    "                i, self.humid2loc = map_from_lines(i + 1, input)\n",
    "            else:\n",
    "                i += 1\n",
    "    \n",
    "    def seed2loc(self, seed):\n",
    "        return reduce(lambda source, s2d: s2d.get(source), self.seed2loc_chain, seed)\n",
    "    \n",
    "    def seed2locrange(self, seed_ranges):\n",
    "        results = []\n",
    "        for s in seed_ranges:\n",
    "            ranges = [s]\n",
    "            for s2d in self.seed2loc_chain:\n",
    "                next_ranges = []\n",
    "                for r in ranges:\n",
    "                    next_ranges += s2d.get_range(r)\n",
    "                ranges = next_ranges\n",
    "            results += ranges\n",
    "            \n",
    "        return results"
   ]
  },
  {
   "cell_type": "code",
   "execution_count": 17,
   "id": "1ff16b68-838e-4b68-bc4f-3242a001e807",
   "metadata": {},
   "outputs": [],
   "source": [
    "def split_range(r1: Tuple[int, int], r2: Tuple[int, int]) -> Tuple[Tuple[int, int],List[Tuple[int, int]]]:\n",
    "    \"\"\"\n",
    "        Split r1 (Tuple[int, int]) into 2 parts\n",
    "            - Overlapping with r2.\n",
    "            - Not overlapping with r2 (List)\n",
    "            - Assumes start inclusive/end exclusive tuples.\n",
    "    \"\"\"\n",
    "    s1, e1 = r1\n",
    "    s2, e2 = r2\n",
    "\n",
    "    # Cases handled\n",
    "    # ---r1---\n",
    "    #      ---r2---\n",
    "    overlap_and_left_r2 = s1 < s2 and e1 > s2 and e1 <= e2\n",
    "    #  --r1----\n",
    "    # ----r2-\n",
    "    overlap_and_right_r2 = s1 >= s2 and s1 < e2 and e1 > e2\n",
    "    #    --r1---\n",
    "    # -----r2------\n",
    "    inside_r2 = s1 >= s2 and e1 <= e2\n",
    "    # ---r1---------\n",
    "    #     ----r2--\n",
    "    contains_r2 = s1 <= s2 and e1 > e2\n",
    "\n",
    "    if overlap_and_left_r2:\n",
    "        return ((s2, e1), [(s1, s2)])\n",
    "    elif overlap_and_right_r2:\n",
    "        return ((s1, e2), [(e2, e1)])\n",
    "    elif inside_r2:\n",
    "        return ((s1, e1), [])\n",
    "    elif contains_r2:\n",
    "        return ((s2, e2), [(s1, s2), (e2, e1)])\n",
    "    \n",
    "    return (None, [r1])\n",
    "\n",
    "# Overlap and on left\n",
    "assert split_range((2, 5), (3, 8)) == ((3, 5), [(2, 3)])\n",
    "# Overlap and contained\n",
    "assert split_range((2, 5), (1, 8)) == ((2, 5), [])\n",
    "#  Overlap and on right\n",
    "assert split_range((6, 12), (3, 8)) == ((6, 8), [(8, 12)])\n",
    "# Overlap and contains\n",
    "assert split_range((6, 12), (7, 10)) == ((7, 10), [(6, 7), (10, 12)])\n",
    "# No overlap - smaller\n",
    "assert split_range((79, 93), (98, 100)) == (None, [(79, 93)])\n",
    "# No overlap - greater\n",
    "assert split_range((101, 105), (98, 100)) == (None, [(101, 105)])"
   ]
  },
  {
   "cell_type": "code",
   "execution_count": 18,
   "id": "82911d72-7e5b-47c5-a73a-9d0fe6785317",
   "metadata": {},
   "outputs": [],
   "source": [
    "def d5p1(test=False):\n",
    "    input = sample_input if test else file_input\n",
    "    food_map = FoodMap(input)\n",
    "\n",
    "    return min([food_map.seed2loc(s) for s in food_map.seeds])"
   ]
  },
  {
   "cell_type": "code",
   "execution_count": 19,
   "id": "727be829-f841-4608-b1f8-dfe45e0b77ab",
   "metadata": {},
   "outputs": [
    {
     "data": {
      "text/plain": [
       "346433842"
      ]
     },
     "execution_count": 19,
     "metadata": {},
     "output_type": "execute_result"
    }
   ],
   "source": [
    "assert d5p1(True) == 35\n",
    "d5p1()"
   ]
  },
  {
   "cell_type": "markdown",
   "id": "adb45ebd-218d-4040-ab87-4b000b8cbe04",
   "metadata": {},
   "source": [
    "## Part 2"
   ]
  },
  {
   "cell_type": "markdown",
   "id": "871ccd59-096e-4a6f-90fc-85bff98980ee",
   "metadata": {},
   "source": [
    "The source seeds are also ranges now. A seed range is represented as (start, count). We need to map this to a location. We only care about the lowest location number. I think this can be done by treating the seed range as an interval and doing interval matching.\n",
    "\n",
    "Let's create a new function split_range that can split an interval into overlapping and non-overlapping parts.\n",
    "\n",
    "With this we apply the following to every map\n",
    "\n",
    "- Split source ranges into ones that overlap and don't overlap with destination. Then convert them to destination categories.\n",
    "- Repeat for every map. "
   ]
  },
  {
   "cell_type": "code",
   "execution_count": 20,
   "id": "ea51aa73-75ed-4b0f-9475-2de17fc77071",
   "metadata": {},
   "outputs": [],
   "source": [
    "def d5p2(test=False):\n",
    "    input = sample_input if test else file_input\n",
    "    food_map = FoodMap(input)\n",
    "    seed_ranges = [(food_map.seeds[i], food_map.seeds[i] + food_map.seeds[i + 1]) for i in range(0, len(food_map.seeds), 2)]\n",
    "\n",
    "    return min(food_map.seed2locrange(seed_ranges), key=lambda x: x[0])[0]"
   ]
  },
  {
   "cell_type": "code",
   "execution_count": 21,
   "id": "974a02d2-cd52-4897-be5c-2d4aa237d7db",
   "metadata": {},
   "outputs": [
    {
     "data": {
      "text/plain": [
       "60294664"
      ]
     },
     "execution_count": 21,
     "metadata": {},
     "output_type": "execute_result"
    }
   ],
   "source": [
    "assert d5p2(True) == 46\n",
    "d5p2()"
   ]
  },
  {
   "cell_type": "markdown",
   "id": "d369a632-a051-4c5f-8ac4-0b5454a456bc",
   "metadata": {},
   "source": [
    "# Day 6"
   ]
  },
  {
   "cell_type": "code",
   "execution_count": 70,
   "id": "eba32ab1-ff55-44f7-8d92-bf356dead86a",
   "metadata": {},
   "outputs": [],
   "source": [
    "a, b = (1, [2,3])"
   ]
  },
  {
   "cell_type": "code",
   "execution_count": 71,
   "id": "83387a21-5063-46e1-aea1-f1fd3e3b4a3d",
   "metadata": {},
   "outputs": [
    {
     "data": {
      "text/plain": [
       "1"
      ]
     },
     "execution_count": 71,
     "metadata": {},
     "output_type": "execute_result"
    }
   ],
   "source": []
  },
  {
   "cell_type": "code",
   "execution_count": 203,
   "id": "fb4ce631-704d-4d3f-bdfe-3cd477a469ef",
   "metadata": {},
   "outputs": [],
   "source": [
    "sample_str = \"\"\"\n",
    "Time:      7  15   30\n",
    "Distance:  9  40  200\n",
    "\"\"\"\n",
    "\n",
    "def to_dict(lines):\n",
    "    result = {}\n",
    "    parse_val = lambda v: [int(i) for i in v.strip().split()]\n",
    "    for line in lines:\n",
    "        k, v = line.split(\":\")\n",
    "        result[k.strip().lower()] = parse_val(v)\n",
    "    \n",
    "    return list(zip(result[\"time\"], result[\"distance\"]))\n",
    "    \n",
    "sample_input, file_input = map(to_dict, Parser.parse_input(sample_str, \"data/day6.txt\"))"
   ]
  },
  {
   "cell_type": "markdown",
   "id": "9706d9f4-540d-4fe0-b262-e122531b1299",
   "metadata": {},
   "source": [
    "### Part 1"
   ]
  },
  {
   "cell_type": "markdown",
   "id": "50183519-befc-48b9-ac36-e0e8862d5804",
   "metadata": {},
   "source": [
    "We are given pairs of numbers, the total time and total distance to beat. We have to split the first number into a, b where a.b > second number. we know that a.b is maximized when a and b are the closest to each other. With the [AM-GM inequality](https://en.wikipedia.org/wiki/AM-GM_Inequality) we know that a.b is maximized when a and b are the closest to eachother. \n",
    "\n",
    "We can binary search to find the lowest start number that still satisfies the condition."
   ]
  },
  {
   "cell_type": "code",
   "execution_count": 197,
   "id": "67b95dba-784f-476d-a972-0eed9b4f6d5c",
   "metadata": {},
   "outputs": [],
   "source": [
    "def n_wins(t, d):\n",
    "    start, end = 1, t\n",
    "    last_valid = None\n",
    "    \n",
    "    # Find the lowest and highest number whose product still exceeds d\n",
    "    # Then the difference between them will be the total number of ways.\n",
    "    while start <= end:\n",
    "        mid = (start + end) // 2\n",
    "        if (mid * (t - mid)) > d:\n",
    "            last_valid = mid\n",
    "            end = mid - 1\n",
    "        else:\n",
    "            start = mid + 1\n",
    "        \n",
    "    return abs((t - last_valid) - last_valid) + 1 if last_valid else 0\n"
   ]
  },
  {
   "cell_type": "code",
   "execution_count": 198,
   "id": "4bf55d70-0928-4ad3-88f0-91fea82e7a28",
   "metadata": {},
   "outputs": [],
   "source": [
    "def d6p1(test=False):\n",
    "    input = sample_input if test else file_input\n",
    "    \n",
    "    return reduce(lambda a, b: a * b, [n_wins(t, d) for t, d in input], 1)"
   ]
  },
  {
   "cell_type": "code",
   "execution_count": 200,
   "id": "88827378-a217-4a9f-a410-d60e45044d12",
   "metadata": {},
   "outputs": [
    {
     "data": {
      "text/plain": [
       "293046"
      ]
     },
     "execution_count": 200,
     "metadata": {},
     "output_type": "execute_result"
    }
   ],
   "source": [
    "assert d6p1(True) == 288\n",
    "d6p1()"
   ]
  },
  {
   "cell_type": "markdown",
   "id": "9eec59bd-c2c9-4b1a-9840-db9d73a6757d",
   "metadata": {},
   "source": [
    "### Part 2\n",
    "\n",
    "This one just ensures our technique is efficient and not looking at all possible combinations. It sure is :)"
   ]
  },
  {
   "cell_type": "code",
   "execution_count": 206,
   "id": "b273b75f-a2b7-4d3b-ac19-7e5cae09464c",
   "metadata": {},
   "outputs": [],
   "source": [
    "def to_dict_2(lines):\n",
    "    result = {}\n",
    "    parse_val = lambda v: [int(v.replace(\" \", \"\"))]\n",
    "    for line in lines:\n",
    "        k, v = line.split(\":\")\n",
    "        result[k.strip().lower()] = parse_val(v)\n",
    "    return list(zip(result[\"time\"], result[\"distance\"]))\n",
    "    \n",
    "sample_input, file_input = map(to_dict_2, Parser.parse_input(sample_str, \"data/day6.txt\"))"
   ]
  },
  {
   "cell_type": "code",
   "execution_count": 207,
   "id": "0fa63cbd-5616-49b1-a8d0-48ccb7cf367b",
   "metadata": {},
   "outputs": [],
   "source": [
    "def d6p2(test=False):\n",
    "    input = sample_input if test else file_input\n",
    "    \n",
    "    return reduce(lambda a, b: a * b, [n_wins(t, d) for t, d in input], 1)"
   ]
  },
  {
   "cell_type": "code",
   "execution_count": 208,
   "id": "6de11277-faad-4060-8d5b-a8e7132de797",
   "metadata": {},
   "outputs": [
    {
     "data": {
      "text/plain": [
       "35150181"
      ]
     },
     "execution_count": 208,
     "metadata": {},
     "output_type": "execute_result"
    }
   ],
   "source": [
    "assert d6p2(True) == 71503\n",
    "d6p2()"
   ]
  },
  {
   "cell_type": "markdown",
   "id": "147e93dc-6c51-4e6f-8531-dee84c0e0d66",
   "metadata": {},
   "source": [
    "# Day 7"
   ]
  },
  {
   "cell_type": "code",
   "execution_count": 352,
   "id": "829098f9-19df-491e-a411-c971b55bc0f7",
   "metadata": {},
   "outputs": [],
   "source": [
    "sample_str = \"\"\"\n",
    "    32T3K 765\n",
    "    T55J5 684\n",
    "    KK677 28\n",
    "    KTJJT 220\n",
    "    QQQJA 483\n",
    "\"\"\"\n",
    "\n",
    "def parse_line(line):\n",
    "    hand, bet = line.split()\n",
    "    return (hand, int(bet))\n",
    "\n",
    "sample_input, file_input = Parser.parse_input(sample_str, \"data/day7.txt\", pp=parse_line)"
   ]
  },
  {
   "cell_type": "markdown",
   "id": "370230ea-bec8-4ff0-8aa8-1417b44171e2",
   "metadata": {},
   "source": [
    "## Part 1"
   ]
  },
  {
   "cell_type": "markdown",
   "id": "df5477c5-c79e-46e1-bf9d-1c13116e93a1",
   "metadata": {},
   "source": [
    "Let's write a function to return the rank of different hands in poker. Then we can calculate earnings."
   ]
  },
  {
   "cell_type": "code",
   "execution_count": 388,
   "id": "6b1aa845-3263-499a-a935-b040e95f67fb",
   "metadata": {},
   "outputs": [
    {
     "data": {
      "text/plain": [
       "dict_items([('3', 2), ('2', 3)])"
      ]
     },
     "execution_count": 388,
     "metadata": {},
     "output_type": "execute_result"
    }
   ],
   "source": [
    "Counter({\"3\": 2, \"2\": 3}).items()"
   ]
  },
  {
   "cell_type": "code",
   "execution_count": 454,
   "id": "f44be292-09a0-45d0-8c3b-9c689032668f",
   "metadata": {},
   "outputs": [
    {
     "data": {
      "text/plain": [
       "True"
      ]
     },
     "execution_count": 454,
     "metadata": {},
     "output_type": "execute_result"
    }
   ],
   "source": [
    "((4, 1, ), [5, 4]) > ((4, 1), [5, 3])"
   ]
  },
  {
   "cell_type": "code",
   "execution_count": 512,
   "id": "834f1cc0-67ce-43cf-8da0-ffcb2b355204",
   "metadata": {},
   "outputs": [],
   "source": [
    "def group_cards(hand):\n",
    "    \"\"\"\n",
    "    Return a list of tuples - card counts and ranks.\n",
    "    The tuple is ordered by card counts, followed by ranks.\n",
    "    \"\"\"\n",
    "    card_rank = lambda x: \"--23456789TJQKA\".index(x[0])\n",
    "    # Use ranks by position to break ties\n",
    "    ranks = [card_rank(c) for c in hand]\n",
    "    # Strongest first\n",
    "    counts = tuple(sorted(Counter(hand).values(), reverse=True))\n",
    "    \n",
    "    return counts, ranks\n",
    "def group_cards_joker(hand):\n",
    "    \"\"\"\n",
    "    Return a list of tuples - card counts and ranks.\n",
    "    The tuple is ordered by card counts, followed by ranks.\n",
    "    \"\"\"\n",
    "    card_rank = lambda x: \"-J23456789TJQKA\".index(x[0])\n",
    "    # Use ranks by position to break ties\n",
    "    ranks = [card_rank(c) for c in hand]\n",
    "    # Strongest first\n",
    "    # [(count, rank) ....]\n",
    "    counter = Counter(hand)\n",
    "    counts_nojoker = sorted([count for card, count in counter.items() if card != \"J\"], reverse=True)\n",
    "\n",
    "    if counter[\"J\"] > 0:\n",
    "        counts_nojoker[0] += counter[\"J\"] if len(counts_nojoker) > 0 else counts_nojoker.append(5)\n",
    "    \n",
    "    return tuple(counts_nojoker), ranks\n",
    "\n",
    "def hand_rank(hand, handle_joker=False):\n",
    "    count_ranks = {\n",
    "        (5,): 7,\n",
    "        (4, 1): 6,\n",
    "        (3, 2): 5,\n",
    "        (3, 1, 1): 4,\n",
    "        (2, 2, 1): 3,\n",
    "        (2, 1, 1, 1): 2,\n",
    "        (1, 1, 1, 1, 1): 1\n",
    "    }\n",
    "    counts, ranks = group_cards_joker(hand) if handle_joker else group_cards(hand)\n",
    "\n",
    "    return count_ranks[counts], ranks\n",
    "    \n",
    "def d7p1(test=False):\n",
    "    input = sample_input if test else file_input\n",
    "    \n",
    "    # Weakest first\n",
    "    hand_ranks = sorted([(hand, hand_rank(hand), bid) for hand, bid in input], key=lambda x: x[1])\n",
    "    \n",
    "    return sum([i * bid for i, (_, _, bid) in enumerate(hand_ranks, 1)])\n"
   ]
  },
  {
   "cell_type": "code",
   "execution_count": 513,
   "id": "7f698cef-62d2-4504-bfe2-2de285de2770",
   "metadata": {},
   "outputs": [
    {
     "data": {
      "text/plain": [
       "248396258"
      ]
     },
     "execution_count": 513,
     "metadata": {},
     "output_type": "execute_result"
    }
   ],
   "source": [
    "assert d7p1(True) == 6440\n",
    "d7p1()"
   ]
  },
  {
   "cell_type": "markdown",
   "id": "ba3e8c1b-0606-41d4-b051-aa3964803048",
   "metadata": {},
   "source": [
    "## Part 2"
   ]
  },
  {
   "cell_type": "markdown",
   "id": "fe173399-aa49-4a1e-b9f4-a1b70b375d91",
   "metadata": {},
   "source": [
    "Here we have also have a joker card that an act as any card to maximize benefit. When grouped, J will act as the most powerful card in the group - increasing its count by 1. It is the weakest card when considering just ranks (as defined)."
   ]
  },
  {
   "cell_type": "code",
   "execution_count": 514,
   "id": "c13bff42-7536-4349-8b26-82e10482210d",
   "metadata": {},
   "outputs": [],
   "source": [
    "def d7p2(test=False):\n",
    "    input = sample_input if test else file_input\n",
    "    \n",
    "    # Weakest first\n",
    "    hand_ranks = sorted([(hand, hand_rank(hand, handle_joker=True), bid) for hand, bid in input], key=lambda x: x[1])\n",
    "    \n",
    "    return sum([i * bid for i, (_, _, bid) in enumerate(hand_ranks, 1)])\n"
   ]
  },
  {
   "cell_type": "code",
   "execution_count": 515,
   "id": "a2d008c8-cd98-4897-b703-a11efc6ef48b",
   "metadata": {},
   "outputs": [
    {
     "ename": "IndexError",
     "evalue": "list index out of range",
     "output_type": "error",
     "traceback": [
      "\u001b[0;31m---------------------------------------------------------------------------\u001b[0m",
      "\u001b[0;31mIndexError\u001b[0m                                Traceback (most recent call last)",
      "Cell \u001b[0;32mIn[515], line 2\u001b[0m\n\u001b[1;32m      1\u001b[0m \u001b[38;5;28;01massert\u001b[39;00m d7p2(\u001b[38;5;28;01mTrue\u001b[39;00m) \u001b[38;5;241m==\u001b[39m \u001b[38;5;241m5905\u001b[39m\n\u001b[0;32m----> 2\u001b[0m \u001b[43md7p2\u001b[49m\u001b[43m(\u001b[49m\u001b[43m)\u001b[49m\n",
      "Cell \u001b[0;32mIn[514], line 5\u001b[0m, in \u001b[0;36md7p2\u001b[0;34m(test)\u001b[0m\n\u001b[1;32m      2\u001b[0m \u001b[38;5;28minput\u001b[39m \u001b[38;5;241m=\u001b[39m sample_input \u001b[38;5;28;01mif\u001b[39;00m test \u001b[38;5;28;01melse\u001b[39;00m file_input\n\u001b[1;32m      4\u001b[0m \u001b[38;5;66;03m# Weakest first\u001b[39;00m\n\u001b[0;32m----> 5\u001b[0m hand_ranks \u001b[38;5;241m=\u001b[39m \u001b[38;5;28msorted\u001b[39m(\u001b[43m[\u001b[49m\u001b[43m(\u001b[49m\u001b[43mhand\u001b[49m\u001b[43m,\u001b[49m\u001b[43m \u001b[49m\u001b[43mhand_rank\u001b[49m\u001b[43m(\u001b[49m\u001b[43mhand\u001b[49m\u001b[43m,\u001b[49m\u001b[43m \u001b[49m\u001b[43mhandle_joker\u001b[49m\u001b[38;5;241;43m=\u001b[39;49m\u001b[38;5;28;43;01mTrue\u001b[39;49;00m\u001b[43m)\u001b[49m\u001b[43m,\u001b[49m\u001b[43m \u001b[49m\u001b[43mbid\u001b[49m\u001b[43m)\u001b[49m\u001b[43m \u001b[49m\u001b[38;5;28;43;01mfor\u001b[39;49;00m\u001b[43m \u001b[49m\u001b[43mhand\u001b[49m\u001b[43m,\u001b[49m\u001b[43m \u001b[49m\u001b[43mbid\u001b[49m\u001b[43m \u001b[49m\u001b[38;5;129;43;01min\u001b[39;49;00m\u001b[43m \u001b[49m\u001b[38;5;28;43minput\u001b[39;49m\u001b[43m]\u001b[49m, key\u001b[38;5;241m=\u001b[39m\u001b[38;5;28;01mlambda\u001b[39;00m x: x[\u001b[38;5;241m1\u001b[39m])\n\u001b[1;32m      7\u001b[0m \u001b[38;5;28;01mreturn\u001b[39;00m \u001b[38;5;28msum\u001b[39m([i \u001b[38;5;241m*\u001b[39m bid \u001b[38;5;28;01mfor\u001b[39;00m i, (_, _, bid) \u001b[38;5;129;01min\u001b[39;00m \u001b[38;5;28menumerate\u001b[39m(hand_ranks, \u001b[38;5;241m1\u001b[39m)])\n",
      "Cell \u001b[0;32mIn[514], line 5\u001b[0m, in \u001b[0;36m<listcomp>\u001b[0;34m(.0)\u001b[0m\n\u001b[1;32m      2\u001b[0m \u001b[38;5;28minput\u001b[39m \u001b[38;5;241m=\u001b[39m sample_input \u001b[38;5;28;01mif\u001b[39;00m test \u001b[38;5;28;01melse\u001b[39;00m file_input\n\u001b[1;32m      4\u001b[0m \u001b[38;5;66;03m# Weakest first\u001b[39;00m\n\u001b[0;32m----> 5\u001b[0m hand_ranks \u001b[38;5;241m=\u001b[39m \u001b[38;5;28msorted\u001b[39m([(hand, \u001b[43mhand_rank\u001b[49m\u001b[43m(\u001b[49m\u001b[43mhand\u001b[49m\u001b[43m,\u001b[49m\u001b[43m \u001b[49m\u001b[43mhandle_joker\u001b[49m\u001b[38;5;241;43m=\u001b[39;49m\u001b[38;5;28;43;01mTrue\u001b[39;49;00m\u001b[43m)\u001b[49m, bid) \u001b[38;5;28;01mfor\u001b[39;00m hand, bid \u001b[38;5;129;01min\u001b[39;00m \u001b[38;5;28minput\u001b[39m], key\u001b[38;5;241m=\u001b[39m\u001b[38;5;28;01mlambda\u001b[39;00m x: x[\u001b[38;5;241m1\u001b[39m])\n\u001b[1;32m      7\u001b[0m \u001b[38;5;28;01mreturn\u001b[39;00m \u001b[38;5;28msum\u001b[39m([i \u001b[38;5;241m*\u001b[39m bid \u001b[38;5;28;01mfor\u001b[39;00m i, (_, _, bid) \u001b[38;5;129;01min\u001b[39;00m \u001b[38;5;28menumerate\u001b[39m(hand_ranks, \u001b[38;5;241m1\u001b[39m)])\n",
      "Cell \u001b[0;32mIn[512], line 41\u001b[0m, in \u001b[0;36mhand_rank\u001b[0;34m(hand, handle_joker)\u001b[0m\n\u001b[1;32m     31\u001b[0m \u001b[38;5;28;01mdef\u001b[39;00m \u001b[38;5;21mhand_rank\u001b[39m(hand, handle_joker\u001b[38;5;241m=\u001b[39m\u001b[38;5;28;01mFalse\u001b[39;00m):\n\u001b[1;32m     32\u001b[0m     count_ranks \u001b[38;5;241m=\u001b[39m {\n\u001b[1;32m     33\u001b[0m         (\u001b[38;5;241m5\u001b[39m,): \u001b[38;5;241m7\u001b[39m,\n\u001b[1;32m     34\u001b[0m         (\u001b[38;5;241m4\u001b[39m, \u001b[38;5;241m1\u001b[39m): \u001b[38;5;241m6\u001b[39m,\n\u001b[0;32m   (...)\u001b[0m\n\u001b[1;32m     39\u001b[0m         (\u001b[38;5;241m1\u001b[39m, \u001b[38;5;241m1\u001b[39m, \u001b[38;5;241m1\u001b[39m, \u001b[38;5;241m1\u001b[39m, \u001b[38;5;241m1\u001b[39m): \u001b[38;5;241m1\u001b[39m\n\u001b[1;32m     40\u001b[0m     }\n\u001b[0;32m---> 41\u001b[0m     counts, ranks \u001b[38;5;241m=\u001b[39m \u001b[43mgroup_cards_joker\u001b[49m\u001b[43m(\u001b[49m\u001b[43mhand\u001b[49m\u001b[43m)\u001b[49m \u001b[38;5;28;01mif\u001b[39;00m handle_joker \u001b[38;5;28;01melse\u001b[39;00m group_cards(hand)\n\u001b[1;32m     43\u001b[0m     \u001b[38;5;28;01mreturn\u001b[39;00m count_ranks[counts], ranks\n",
      "Cell \u001b[0;32mIn[512], line 27\u001b[0m, in \u001b[0;36mgroup_cards_joker\u001b[0;34m(hand)\u001b[0m\n\u001b[1;32m     24\u001b[0m counts_nojoker \u001b[38;5;241m=\u001b[39m \u001b[38;5;28msorted\u001b[39m([count \u001b[38;5;28;01mfor\u001b[39;00m card, count \u001b[38;5;129;01min\u001b[39;00m counter\u001b[38;5;241m.\u001b[39mitems() \u001b[38;5;28;01mif\u001b[39;00m card \u001b[38;5;241m!=\u001b[39m \u001b[38;5;124m\"\u001b[39m\u001b[38;5;124mJ\u001b[39m\u001b[38;5;124m\"\u001b[39m], reverse\u001b[38;5;241m=\u001b[39m\u001b[38;5;28;01mTrue\u001b[39;00m)\n\u001b[1;32m     26\u001b[0m \u001b[38;5;28;01mif\u001b[39;00m counter[\u001b[38;5;124m\"\u001b[39m\u001b[38;5;124mJ\u001b[39m\u001b[38;5;124m\"\u001b[39m] \u001b[38;5;241m>\u001b[39m \u001b[38;5;241m0\u001b[39m:\n\u001b[0;32m---> 27\u001b[0m     \u001b[43mcounts_nojoker\u001b[49m\u001b[43m[\u001b[49m\u001b[38;5;241;43m0\u001b[39;49m\u001b[43m]\u001b[49m \u001b[38;5;241m+\u001b[39m\u001b[38;5;241m=\u001b[39m counter[\u001b[38;5;124m\"\u001b[39m\u001b[38;5;124mJ\u001b[39m\u001b[38;5;124m\"\u001b[39m] \u001b[38;5;28;01mif\u001b[39;00m \u001b[38;5;28mlen\u001b[39m(counts_nojoker) \u001b[38;5;241m>\u001b[39m \u001b[38;5;241m0\u001b[39m \u001b[38;5;28;01melse\u001b[39;00m counts_nojoker\u001b[38;5;241m.\u001b[39mappend(\u001b[38;5;241m5\u001b[39m)\n\u001b[1;32m     29\u001b[0m \u001b[38;5;28;01mreturn\u001b[39;00m \u001b[38;5;28mtuple\u001b[39m(counts_nojoker), ranks\n",
      "\u001b[0;31mIndexError\u001b[0m: list index out of range"
     ]
    }
   ],
   "source": [
    "assert d7p2(True) == 5905\n",
    "d7p2()"
   ]
  }
 ],
 "metadata": {
  "kernelspec": {
   "display_name": "Python 3 (ipykernel)",
   "language": "python",
   "name": "python3"
  },
  "language_info": {
   "codemirror_mode": {
    "name": "ipython",
    "version": 3
   },
   "file_extension": ".py",
   "mimetype": "text/x-python",
   "name": "python",
   "nbconvert_exporter": "python",
   "pygments_lexer": "ipython3",
   "version": "3.11.5"
  }
 },
 "nbformat": 4,
 "nbformat_minor": 5
}
