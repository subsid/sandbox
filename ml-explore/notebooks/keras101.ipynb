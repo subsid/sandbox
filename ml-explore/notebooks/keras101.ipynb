{
 "cells": [
  {
   "cell_type": "code",
   "execution_count": 268,
   "metadata": {},
   "outputs": [],
   "source": [
    "# working through https://www.youtube.com/watch?v=qFJeN9V1ZsI&t=143s"
   ]
  },
  {
   "cell_type": "code",
   "execution_count": 269,
   "metadata": {},
   "outputs": [],
   "source": [
    "import numpy as np\n",
    "from random import randint\n",
    "from sklearn.utils import shuffle\n",
    "from sklearn.preprocessing import MinMaxScaler\n",
    "\n",
    "import tensorflow as tf\n",
    "from tensorflow import keras\n",
    "from tensorflow.keras.models import Sequential\n",
    "from tensorflow.keras.layers import Activation, Dense\n",
    "from tensorflow.keras.optimizers import Adam\n",
    "from tensorflow.keras.metrics import categorical_crossentropy"
   ]
  },
  {
   "cell_type": "code",
   "execution_count": 270,
   "metadata": {},
   "outputs": [
    {
     "name": "stdout",
     "output_type": "stream",
     "text": [
      "Num GPUs Available: 1\n",
      "Device: [PhysicalDevice(name='/physical_device:GPU:0', device_type='GPU')]\n"
     ]
    }
   ],
   "source": [
    "# GPU check\n",
    "physical_devices = tf.config.experimental.list_physical_devices('GPU')\n",
    "print(\"Num GPUs Available: {}\\nDevice: {}\".format(len(physical_devices), physical_devices))\n",
    "tf.config.experimental.set_memory_growth(physical_devices[0], True)"
   ]
  },
  {
   "cell_type": "markdown",
   "metadata": {},
   "source": [
    "## Generate data\n",
    "- Experimental drug tested on ages 13 - 90\n",
    "- 3200 participants. Half less than age 55 and half > 55\n",
    "- 95% of patients below 55 had no side-effects\n",
    "- 95% of patients above 55 had side-effects"
   ]
  },
  {
   "cell_type": "code",
   "execution_count": 271,
   "metadata": {},
   "outputs": [],
   "source": [
    "def generate_data(negative_samples_count, positive_samples_count):\n",
    "    train_labels = []\n",
    "    train_samples = []\n",
    "\n",
    "    for i in range(negative_samples_count):\n",
    "        if (i % 2) == 0:\n",
    "            # % < 55 with side-effects\n",
    "            sample_age = randint(13, 55)\n",
    "            train_samples.append(sample_age)\n",
    "            train_labels.append(1)\n",
    "\n",
    "        else:\n",
    "            # % > 55 with no-sideeffects\n",
    "            sample_age = randint(56, 90)\n",
    "            train_samples.append(sample_age)\n",
    "            train_labels.append(0)\n",
    "\n",
    "    for i in range(positive_samples_count):\n",
    "        if (i % 2) == 0: \n",
    "            # % < 55 with no side-effects\n",
    "            sample_age = randint(13, 55)\n",
    "            train_samples.append(sample_age)\n",
    "            train_labels.append(0)\n",
    "        else:\n",
    "            # % > 55 with side-effects\n",
    "            sample_age = randint(56, 90)\n",
    "            train_samples.append(sample_age)\n",
    "            train_labels.append(1)\n",
    "\n",
    "    return train_samples, train_labels\n",
    "        \n",
    "n_train = 3200\n",
    "n_test = 400\n",
    "train_samples, train_labels = generate_data(int(0.05 * n_train), n_train - int(0.05 * n_train))\n",
    "test_samples, test_labels = generate_data(int(0.05 * n_test), n_test - int(0.05 * n_test))"
   ]
  },
  {
   "cell_type": "code",
   "execution_count": 272,
   "metadata": {},
   "outputs": [],
   "source": [
    "train_samples, train_labels = shuffle(np.array(train_samples), np.array(train_labels))\n",
    "test_samples, test_labels = shuffle(np.array(test_samples), np.array(test_labels))"
   ]
  },
  {
   "cell_type": "code",
   "execution_count": 273,
   "metadata": {},
   "outputs": [],
   "source": [
    "scaler = MinMaxScaler(feature_range=(0, 1))\n",
    "# (n_samples x n_dims)\n",
    "scaled_train_samples = scaler.fit_transform(train_samples.reshape(-1, 1))\n",
    "scaled_test_samples = scaler.fit_transform(test_samples.reshape(-1, 1))"
   ]
  },
  {
   "cell_type": "markdown",
   "metadata": {},
   "source": [
    "## Keras sequential model\n",
    "\n",
    "- Create a simple 3 layer NN using the Sequential API. "
   ]
  },
  {
   "cell_type": "code",
   "execution_count": 274,
   "metadata": {},
   "outputs": [
    {
     "name": "stdout",
     "output_type": "stream",
     "text": [
      "Model: \"sequential_15\"\n",
      "_________________________________________________________________\n",
      "Layer (type)                 Output Shape              Param #   \n",
      "=================================================================\n",
      "dense_48 (Dense)             (None, 16)                32        \n",
      "_________________________________________________________________\n",
      "dense_49 (Dense)             (None, 32)                544       \n",
      "_________________________________________________________________\n",
      "dense_50 (Dense)             (None, 2)                 66        \n",
      "=================================================================\n",
      "Total params: 642\n",
      "Trainable params: 642\n",
      "Non-trainable params: 0\n",
      "_________________________________________________________________\n"
     ]
    }
   ],
   "source": [
    "model = Sequential([\n",
    "    Dense(units=16, input_shape=(1, ),  activation=\"relu\"),\n",
    "    Dense(units=32, activation=\"relu\"),\n",
    "    Dense(units=2, activation=\"softmax\")\n",
    "])\n",
    "\n",
    "model.summary()"
   ]
  },
  {
   "cell_type": "code",
   "execution_count": 275,
   "metadata": {},
   "outputs": [],
   "source": [
    "model.compile(optimizer = Adam(learning_rate=0.0001), loss='sparse_categorical_crossentropy', metrics=['accuracy'])"
   ]
  },
  {
   "cell_type": "code",
   "execution_count": 276,
   "metadata": {},
   "outputs": [
    {
     "name": "stdout",
     "output_type": "stream",
     "text": [
      "Epoch 1/30\n",
      "288/288 - 0s - loss: 0.6704 - accuracy: 0.5882 - val_loss: 0.6496 - val_accuracy: 0.6531\n",
      "Epoch 2/30\n",
      "288/288 - 0s - loss: 0.6257 - accuracy: 0.7080 - val_loss: 0.6003 - val_accuracy: 0.7531\n",
      "Epoch 3/30\n",
      "288/288 - 0s - loss: 0.5794 - accuracy: 0.7812 - val_loss: 0.5542 - val_accuracy: 0.8156\n",
      "Epoch 4/30\n",
      "288/288 - 0s - loss: 0.5336 - accuracy: 0.8198 - val_loss: 0.5073 - val_accuracy: 0.8469\n",
      "Epoch 5/30\n",
      "288/288 - 0s - loss: 0.4892 - accuracy: 0.8490 - val_loss: 0.4642 - val_accuracy: 0.8813\n",
      "Epoch 6/30\n",
      "288/288 - 0s - loss: 0.4475 - accuracy: 0.8750 - val_loss: 0.4240 - val_accuracy: 0.9125\n",
      "Epoch 7/30\n",
      "288/288 - 0s - loss: 0.4110 - accuracy: 0.8917 - val_loss: 0.3910 - val_accuracy: 0.9125\n",
      "Epoch 8/30\n",
      "288/288 - 0s - loss: 0.3813 - accuracy: 0.9003 - val_loss: 0.3652 - val_accuracy: 0.9187\n",
      "Epoch 9/30\n",
      "288/288 - 0s - loss: 0.3579 - accuracy: 0.9118 - val_loss: 0.3447 - val_accuracy: 0.9281\n",
      "Epoch 10/30\n",
      "288/288 - 0s - loss: 0.3395 - accuracy: 0.9163 - val_loss: 0.3295 - val_accuracy: 0.9281\n",
      "Epoch 11/30\n",
      "288/288 - 0s - loss: 0.3253 - accuracy: 0.9247 - val_loss: 0.3175 - val_accuracy: 0.9281\n",
      "Epoch 12/30\n",
      "288/288 - 0s - loss: 0.3144 - accuracy: 0.9226 - val_loss: 0.3086 - val_accuracy: 0.9312\n",
      "Epoch 13/30\n",
      "288/288 - 0s - loss: 0.3057 - accuracy: 0.9257 - val_loss: 0.3022 - val_accuracy: 0.9312\n",
      "Epoch 14/30\n",
      "288/288 - 0s - loss: 0.2992 - accuracy: 0.9295 - val_loss: 0.2964 - val_accuracy: 0.9312\n",
      "Epoch 15/30\n",
      "288/288 - 0s - loss: 0.2936 - accuracy: 0.9264 - val_loss: 0.2927 - val_accuracy: 0.9312\n",
      "Epoch 16/30\n",
      "288/288 - 0s - loss: 0.2893 - accuracy: 0.9295 - val_loss: 0.2891 - val_accuracy: 0.9312\n",
      "Epoch 17/30\n",
      "288/288 - 0s - loss: 0.2857 - accuracy: 0.9281 - val_loss: 0.2867 - val_accuracy: 0.9344\n",
      "Epoch 18/30\n",
      "288/288 - 0s - loss: 0.2828 - accuracy: 0.9351 - val_loss: 0.2840 - val_accuracy: 0.9344\n",
      "Epoch 19/30\n",
      "288/288 - 0s - loss: 0.2802 - accuracy: 0.9375 - val_loss: 0.2813 - val_accuracy: 0.9312\n",
      "Epoch 20/30\n",
      "288/288 - 0s - loss: 0.2779 - accuracy: 0.9312 - val_loss: 0.2803 - val_accuracy: 0.9344\n",
      "Epoch 21/30\n",
      "288/288 - 0s - loss: 0.2759 - accuracy: 0.9361 - val_loss: 0.2785 - val_accuracy: 0.9344\n",
      "Epoch 22/30\n",
      "288/288 - 0s - loss: 0.2743 - accuracy: 0.9368 - val_loss: 0.2772 - val_accuracy: 0.9344\n",
      "Epoch 23/30\n",
      "288/288 - 0s - loss: 0.2726 - accuracy: 0.9382 - val_loss: 0.2752 - val_accuracy: 0.9312\n",
      "Epoch 24/30\n",
      "288/288 - 0s - loss: 0.2715 - accuracy: 0.9361 - val_loss: 0.2745 - val_accuracy: 0.9344\n",
      "Epoch 25/30\n",
      "288/288 - 0s - loss: 0.2701 - accuracy: 0.9399 - val_loss: 0.2738 - val_accuracy: 0.9344\n",
      "Epoch 26/30\n",
      "288/288 - 0s - loss: 0.2691 - accuracy: 0.9399 - val_loss: 0.2730 - val_accuracy: 0.9344\n",
      "Epoch 27/30\n",
      "288/288 - 0s - loss: 0.2682 - accuracy: 0.9392 - val_loss: 0.2720 - val_accuracy: 0.9344\n",
      "Epoch 28/30\n",
      "288/288 - 1s - loss: 0.2673 - accuracy: 0.9410 - val_loss: 0.2716 - val_accuracy: 0.9344\n",
      "Epoch 29/30\n",
      "288/288 - 0s - loss: 0.2665 - accuracy: 0.9410 - val_loss: 0.2704 - val_accuracy: 0.9344\n",
      "Epoch 30/30\n",
      "288/288 - 0s - loss: 0.2657 - accuracy: 0.9410 - val_loss: 0.2704 - val_accuracy: 0.9344\n"
     ]
    },
    {
     "data": {
      "text/plain": [
       "<tensorflow.python.keras.callbacks.History at 0x7faf78142940>"
      ]
     },
     "execution_count": 276,
     "metadata": {},
     "output_type": "execute_result"
    }
   ],
   "source": [
    "model.fit(x=scaled_train_samples, y=train_labels, validation_split=0.1, batch_size=10, epochs=30, shuffle=True, verbose=2)"
   ]
  },
  {
   "cell_type": "markdown",
   "metadata": {},
   "source": [
    "## Predictions on a test set"
   ]
  },
  {
   "cell_type": "code",
   "execution_count": 277,
   "metadata": {},
   "outputs": [
    {
     "name": "stdout",
     "output_type": "stream",
     "text": [
      "[[0.90841365 0.09158632]\n",
      " [0.980431   0.01956897]\n",
      " [0.97948897 0.02051107]\n",
      " [0.7005283  0.29947168]\n",
      " [0.9805376  0.01946241]\n",
      " [0.31532016 0.6846798 ]\n",
      " [0.8008381  0.19916189]\n",
      " [0.123333   0.87666696]\n",
      " [0.8008381  0.19916189]\n",
      " [0.9786993  0.02130067]]\n"
     ]
    }
   ],
   "source": [
    "predictions = model.predict(x=scaled_test_samples)\n",
    "print(predictions[:10])"
   ]
  },
  {
   "cell_type": "code",
   "execution_count": 278,
   "metadata": {},
   "outputs": [],
   "source": [
    "rounded_predictions = np.argmax(predictions, axis=1)"
   ]
  },
  {
   "cell_type": "markdown",
   "metadata": {},
   "source": [
    "### Plot confusion matrix"
   ]
  },
  {
   "cell_type": "code",
   "execution_count": 279,
   "metadata": {},
   "outputs": [],
   "source": [
    "%matplotlib inline\n",
    "from sklearn.metrics import confusion_matrix\n",
    "import itertools\n",
    "import matplotlib.pyplot as plt"
   ]
  },
  {
   "cell_type": "code",
   "execution_count": 280,
   "metadata": {},
   "outputs": [],
   "source": [
    "def plot_confusion_matrix(mat, classes):\n",
    "    cmap = plt.cm.Blues\n",
    "    plt.imshow(mat, interpolation='nearest', cmap=cmap)\n",
    "    plt.title(\"Side effect vs No side effect\")\n",
    "    \n",
    "    plt.colorbar()\n",
    "    tick_marks = np.arange(len(classes))\n",
    "    plt.xticks(tick_marks, classes, rotation=45)\n",
    "    plt.yticks(tick_marks,  classes)\n",
    "    \n",
    "    print(mat)\n",
    "    \n",
    "    threshold = mat.max()/2\n",
    "    \n",
    "    for i, j in itertools.product(range(mat.shape[0]), range(mat.shape[1])):\n",
    "        plt.text(j, i, mat[i, j],\n",
    "                 horizontalalignment=\"center\", color=\"white\" if mat[i, j] > threshold else \"black\")\n",
    "    plt.tight_layout()\n",
    "    plt.ylabel(\"True label\")\n",
    "\n",
    "    plt.xlabel(\"Predicted label\")"
   ]
  },
  {
   "cell_type": "code",
   "execution_count": 281,
   "metadata": {},
   "outputs": [],
   "source": [
    "c_mat = confusion_matrix(test_labels, rounded_predictions)"
   ]
  },
  {
   "cell_type": "code",
   "execution_count": 282,
   "metadata": {},
   "outputs": [
    {
     "name": "stdout",
     "output_type": "stream",
     "text": [
      "[[189  11]\n",
      " [  9 191]]\n"
     ]
    },
    {
     "data": {
      "image/png": "[encoded data removed]",
      "text/plain": [
       "<Figure size 432x288 with 2 Axes>"
      ]
     },
     "metadata": {
      "needs_background": "light"
     },
     "output_type": "display_data"
    }
   ],
   "source": [
    "classes = [\"no_side_effect\", \"side_effect\"]\n",
    "plot_confusion_matrix(c_mat, classes)"
   ]
  },
  {
   "cell_type": "markdown",
   "metadata": {},
   "source": [
    "# Saving and Loading a Model"
   ]
  },
  {
   "cell_type": "markdown",
   "metadata": {},
   "source": [
    "### Save and load everything\n",
    "    - Saves architecture\n",
    "    - Saves weights\n",
    "    - Training configuration (Loss and optimizer used)\n",
    "    - The state of the optimizer, allowing you to continue training."
   ]
  },
  {
   "cell_type": "code",
   "execution_count": 287,
   "metadata": {},
   "outputs": [
    {
     "name": "stdout",
     "output_type": "stream",
     "text": [
      "Path exists. Override if you must\n"
     ]
    }
   ],
   "source": [
    "import os.path\n",
    "\n",
    "if os.path.isfile(\"models/keras101.h5\") is False:\n",
    "    model.save(\"models/keras101.h5\")\n",
    "else:\n",
    "    print(\"Path exists. Override if you must\")\n",
    "    \n",
    "# Save as json only the architecture. Load with model_from_json(mode.to_json())\n",
    "# model.to_json().save(\"<path>\")\n",
    "\n",
    "# Save only the weights with model.save_weights(\"<path>\"). \n",
    "# Create new model \n",
    "# new_model = Sequential([\n",
    "#     Dense(units=16, input_shape=(1, ),  activation=\"relu\"),\n",
    "#     Dense(units=32, activation=\"relu\"),\n",
    "#     Dense(units=2, activation=\"softmax\")\n",
    "# ])\n",
    "# Load weights into this model\n",
    "# new_model.load_weights(\"<path>\")"
   ]
  },
  {
   "cell_type": "code",
   "execution_count": 288,
   "metadata": {},
   "outputs": [],
   "source": [
    "from tensorflow.keras.models import load_model\n",
    "new_model = load_model(\"models/keras101.h5\")"
   ]
  },
  {
   "cell_type": "code",
   "execution_count": 289,
   "metadata": {},
   "outputs": [
    {
     "name": "stdout",
     "output_type": "stream",
     "text": [
      "Model: \"sequential_14\"\n",
      "_________________________________________________________________\n",
      "Layer (type)                 Output Shape              Param #   \n",
      "=================================================================\n",
      "dense_45 (Dense)             (None, 16)                32        \n",
      "_________________________________________________________________\n",
      "dense_46 (Dense)             (None, 32)                544       \n",
      "_________________________________________________________________\n",
      "dense_47 (Dense)             (None, 2)                 66        \n",
      "=================================================================\n",
      "Total params: 642\n",
      "Trainable params: 642\n",
      "Non-trainable params: 0\n",
      "_________________________________________________________________\n"
     ]
    }
   ],
   "source": [
    "new_model.summary()"
   ]
  },
  {
   "cell_type": "code",
   "execution_count": 290,
   "metadata": {},
   "outputs": [
    {
     "name": "stdout",
     "output_type": "stream",
     "text": [
      "Model: \"sequential_15\"\n",
      "_________________________________________________________________\n",
      "Layer (type)                 Output Shape              Param #   \n",
      "=================================================================\n",
      "dense_48 (Dense)             (None, 16)                32        \n",
      "_________________________________________________________________\n",
      "dense_49 (Dense)             (None, 32)                544       \n",
      "_________________________________________________________________\n",
      "dense_50 (Dense)             (None, 2)                 66        \n",
      "=================================================================\n",
      "Total params: 642\n",
      "Trainable params: 642\n",
      "Non-trainable params: 0\n",
      "_________________________________________________________________\n"
     ]
    }
   ],
   "source": [
    "model.summary()"
   ]
  }
 ],
 "metadata": {
  "kernelspec": {
   "display_name": "Python 3",
   "language": "python",
   "name": "python3"
  },
  "language_info": {
   "codemirror_mode": {
    "name": "ipython",
    "version": 3
   },
   "file_extension": ".py",
   "mimetype": "text/x-python",
   "name": "python",
   "nbconvert_exporter": "python",
   "pygments_lexer": "ipython3",
   "version": "3.8.5"
  }
 },
 "nbformat": 4,
 "nbformat_minor": 4
}
