{
 "cells": [
  {
   "cell_type": "code",
   "execution_count": 1,
   "id": "6edbff04-24da-4d59-a98f-26f8c7b01b6c",
   "metadata": {},
   "outputs": [],
   "source": [
    "import torch"
   ]
  },
  {
   "cell_type": "code",
   "execution_count": 2,
   "id": "78a05c2e-4b12-474d-b606-ebd733e3d5b0",
   "metadata": {},
   "outputs": [],
   "source": [
    "words = []\n",
    "with open(\"data/names.txt\", \"r\") as f:\n",
    "    for l in f:\n",
    "        words.append(l.strip())"
   ]
  },
  {
   "cell_type": "code",
   "execution_count": 4,
   "id": "46f2c5e4-55b3-4dc5-b2b9-e3bb3e9c20f4",
   "metadata": {},
   "outputs": [
    {
     "name": "stdout",
     "output_type": "stream",
     "text": [
      "torch.Size([182625, 3]) torch.Size([182625])\n",
      "torch.Size([22655, 3]) torch.Size([22655])\n",
      "torch.Size([22866, 3]) torch.Size([22866])\n"
     ]
    }
   ],
   "source": [
    "# build the dataset\n",
    "block_size = 3 # context length: how many characters do we take to predict the next one?\n",
    "\n",
    "def build_dataset(words):  \n",
    "  X, Y = [], []\n",
    "  for w in words:\n",
    "\n",
    "    #print(w)\n",
    "    context = [0] * block_size\n",
    "    for ch in w + '.':\n",
    "      ix = stoi[ch]\n",
    "      X.append(context)\n",
    "      Y.append(ix)\n",
    "      #print(''.join(itos[i] for i in context), '--->', itos[ix])\n",
    "      context = context[1:] + [ix] # crop and append\n",
    "\n",
    "  X = torch.tensor(X)\n",
    "  Y = torch.tensor(Y)\n",
    "  print(X.shape, Y.shape)\n",
    "  return X, Y\n",
    "import random\n",
    "random.seed(42)\n",
    "random.shuffle(words)\n",
    "n1 = int(0.8*len(words))\n",
    "n2 = int(0.9*len(words))\n",
    "\n",
    "Xtr, Ytr = build_dataset(words[:n1])\n",
    "Xdev, Ydev = build_dataset(words[n1:n2])\n",
    "Xte, Yte = build_dataset(words[n2:])"
   ]
  },
  {
   "cell_type": "code",
   "execution_count": 6,
   "id": "b06113e6-c55e-42b6-9c71-185430608c07",
   "metadata": {},
   "outputs": [
    {
     "data": {
      "text/plain": [
       "torch.Size([182625, 3])"
      ]
     },
     "execution_count": 6,
     "metadata": {},
     "output_type": "execute_result"
    }
   ],
   "source": [
    "Xtr.shape"
   ]
  },
  {
   "cell_type": "code",
   "execution_count": 8,
   "id": "1dab2061-57a4-4ce6-a1eb-6d1b3ba902b4",
   "metadata": {},
   "outputs": [],
   "source": [
    "g = torch.Generator().manual_seed(12345)\n",
    "C = torch.randn((27, 10), generator=g)\n",
    "W1 = torch.randn((200, 30), generator=g)\n",
    "b1 = torch.randn((200, 1), generator=g)\n",
    "W2 = torch.randn((27, 200), generator=g)\n",
    "b2 = torch.randn((27, 1), generator=g)\n",
    "parameters = [C, W1, b1, W2, b2]"
   ]
  },
  {
   "cell_type": "code",
   "execution_count": 9,
   "id": "b3f5f2b7-dc46-45ae-b760-1c2f851d5911",
   "metadata": {},
   "outputs": [],
   "source": [
    "for p in parameters:\n",
    "    p.requires_grad = True"
   ]
  },
  {
   "cell_type": "code",
   "execution_count": 14,
   "id": "99ae76a9-451a-4f89-b16d-ffb39fa6b5ea",
   "metadata": {},
   "outputs": [],
   "source": [
    "import torch.nn.functional as F\n",
    "import matplotlib.pyplot as plt"
   ]
  },
  {
   "cell_type": "code",
   "execution_count": 15,
   "id": "bf022be6-bb29-4936-91f2-09b8b84fc879",
   "metadata": {},
   "outputs": [
    {
     "data": {
      "text/plain": [
       "'\\n\\n200, 30 x 30 x 32 => 200, 100\\n\\n(200, 100) (27, 200) x \\n27 x 200 x 200 100 \\n\\n\\n'"
      ]
     },
     "execution_count": 15,
     "metadata": {},
     "output_type": "execute_result"
    }
   ],
   "source": [
    "\"\"\"\n",
    "\n",
    "200, 30 x 30 x 32 => 200, 100\n",
    "\n",
    "(200, 100) (27, 200) x \n",
    "27 x 200 x 200 100 \n",
    "\n",
    "\n",
    "\"\"\""
   ]
  },
  {
   "cell_type": "code",
   "execution_count": 110,
   "id": "102b9ba6-5ea6-4772-831c-25ab9e3a3d74",
   "metadata": {},
   "outputs": [
    {
     "data": {
      "text/plain": [
       "torch.Size([200, 1])"
      ]
     },
     "execution_count": 110,
     "metadata": {},
     "output_type": "execute_result"
    }
   ],
   "source": [
    "b1.shape"
   ]
  },
  {
   "cell_type": "code",
   "execution_count": 111,
   "id": "38638f08-1ffd-4870-aa47-1a208112af4c",
   "metadata": {},
   "outputs": [
    {
     "data": {
      "text/plain": [
       "torch.Size([200, 1])"
      ]
     },
     "execution_count": 111,
     "metadata": {},
     "output_type": "execute_result"
    }
   ],
   "source": [
    "b1.reshape((200, -1)).shape"
   ]
  },
  {
   "cell_type": "code",
   "execution_count": 19,
   "id": "9ea97728-c4fe-4690-9940-fccc2788a268",
   "metadata": {},
   "outputs": [
    {
     "data": {
      "text/plain": [
       "torch.Size([200, 9])"
      ]
     },
     "execution_count": 19,
     "metadata": {},
     "output_type": "execute_result"
    }
   ],
   "source": [
    "((W1 @ C.view((-1, 30)).T) + b1).shape"
   ]
  },
  {
   "cell_type": "code",
   "execution_count": 20,
   "id": "55afcd12-63a6-460d-b46c-20ca3a9bb1f3",
   "metadata": {},
   "outputs": [],
   "source": [
    "lossi, stepi = [], []\n",
    "\n",
    "for step in range(10000):\n",
    "    ix = torch.randint(0, Xtr.shape[0], (100,))\n",
    "    embs = C[Xtr[ix]] # (32 , 3, 10)\n",
    "    h = torch.tanh(W1 a embs.view((-1, 30)).T + b1) # 32 x 200 \n",
    "    logits = W2 @ h + b2 # (32, 27)\n",
    "    loss = F.cross_entropy(logits.T, Ytr[ix])\n",
    "    \n",
    "    for p in parameters:\n",
    "        p.grad = None\n",
    "    loss.backward()\n",
    "    \n",
    "    lr = 0.1 if step < 100000 else 0.01\n",
    "    for p in parameters:\n",
    "        p.data += -lr * p.grad\n",
    "    \n",
    "    stepi.append(step)\n",
    "    lossi.append(loss.log10().item())"
   ]
  },
  {
   "cell_type": "code",
   "execution_count": 21,
   "id": "fd41a78c-0b85-4772-8b6d-c97a9b7cdd3c",
   "metadata": {},
   "outputs": [
    {
     "data": {
      "text/plain": [
       "[<matplotlib.lines.Line2D at 0x79270b91fbd0>]"
      ]
     },
     "execution_count": 21,
     "metadata": {},
     "output_type": "execute_result"
    },
    {
     "data": {
      "image/png": "[encoded data removed]",
      "text/plain": [
       "<Figure size 640x480 with 1 Axes>"
      ]
     },
     "metadata": {},
     "output_type": "display_data"
    }
   ],
   "source": [
    "plt.plot(stepi, lossi)"
   ]
  }
 ],
 "metadata": {
  "kernelspec": {
   "display_name": "Python 3 (ipykernel)",
   "language": "python",
   "name": "python3"
  },
  "language_info": {
   "codemirror_mode": {
    "name": "ipython",
    "version": 3
   },
   "file_extension": ".py",
   "mimetype": "text/x-python",
   "name": "python",
   "nbconvert_exporter": "python",
   "pygments_lexer": "ipython3",
   "version": "3.11.5"
  }
 },
 "nbformat": 4,
 "nbformat_minor": 5
}
