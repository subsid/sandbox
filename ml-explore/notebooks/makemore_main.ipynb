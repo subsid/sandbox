{
 "cells": [
  {
   "cell_type": "markdown",
   "id": "42c38e0e-6fb4-4ab0-bf69-80ce7894b70c",
   "metadata": {},
   "source": [
    "In this notebook, my goal is to implement makemore using pytorch as explained in the different videos. It will only have the final implementation and is meant for comparison.\n",
    "\n",
    "1. [Vanilla MLP](#Makemore-using-vanilla-MLP)\n",
    "2. [Torch MLP Module](#Makemore-Torch-MLP-module)"
   ]
  },
  {
   "cell_type": "markdown",
   "id": "67622c5f-508d-4ebd-8731-5a339b8bec3f",
   "metadata": {},
   "source": [
    "# Dataset"
   ]
  },
  {
   "cell_type": "code",
   "execution_count": 9,
   "id": "97060623-a789-419d-8e01-9710c1011444",
   "metadata": {},
   "outputs": [],
   "source": [
    "words: list[str] = []\n",
    "\n",
    "with open(\"data/names.txt\", \"r\") as f:\n",
    "    for l in f:\n",
    "        words.append(l.strip())"
   ]
  },
  {
   "cell_type": "code",
   "execution_count": 12,
   "id": "be4a669a-6a7c-432c-bcd3-1cb8d4b1c4df",
   "metadata": {},
   "outputs": [],
   "source": [
    "# build the vocabulary of characters and mappings to/from integers\n",
    "\n",
    "chars: list[str] = sorted(list(set(''.join(words))))\n",
    "stoi = {s:i+1 for i,s in enumerate(chars)}\n",
    "stoi['.'] = 0\n",
    "itos = {i:s for s,i in stoi.items()}"
   ]
  },
  {
   "cell_type": "markdown",
   "id": "b6a4e676-81d7-4286-971f-07d19dba7b91",
   "metadata": {},
   "source": [
    "Creating an integer id mapping for every char helps us do embedding lookups and other things. "
   ]
  },
  {
   "cell_type": "code",
   "execution_count": 34,
   "id": "4622aa72-2a67-41b1-aa93-fa5c4120cc14",
   "metadata": {},
   "outputs": [
    {
     "name": "stdout",
     "output_type": "stream",
     "text": [
      "\n",
      "  Context Length: 3 \n",
      "  Training: torch.Size([182512, 3]), torch.Size([182512])\n",
      "  Dev: torch.Size([22860, 3]), torch.Size([22860])\n",
      "  Test: torch.Size([22774, 3]), torch.Size([22774])\n",
      "\n"
     ]
    }
   ],
   "source": [
    "# build the dataset\n",
    "block_size = 3 # context length: how many characters do we take to predict the next one?\n",
    "\n",
    "def build_dataset(words):  \n",
    "  X, Y = [], []\n",
    "  for w in words:\n",
    "\n",
    "    #print(w)\n",
    "    context = [0] * block_size\n",
    "    for ch in w + '.':\n",
    "      ix = stoi[ch]\n",
    "      X.append(context)\n",
    "      Y.append(ix)\n",
    "      #print(''.join(itos[i] for i in context), '--->', itos[ix])\n",
    "      context = context[1:] + [ix] # crop and append\n",
    "\n",
    "  X = torch.tensor(X)\n",
    "  Y = torch.tensor(Y)\n",
    "\n",
    "  return X, Y\n",
    "import random\n",
    "random.seed(42)\n",
    "random.shuffle(words)\n",
    "n1 = int(0.8*len(words))\n",
    "n2 = int(0.9*len(words))\n",
    "\n",
    "Xtr, Ytr = build_dataset(words[:n1])\n",
    "Xdev, Ydev = build_dataset(words[n1:n2])\n",
    "Xte, Yte = build_dataset(words[n2:])\n",
    "\n",
    "print(f\"\"\"\n",
    "  Context Length: {block_size} \n",
    "  Training: {Xtr.shape}, {Ytr.shape}\n",
    "  Dev: {Xdev.shape}, {Ydev.shape}\n",
    "  Test: {Xte.shape}, {Yte.shape}\n",
    "\"\"\")"
   ]
  },
  {
   "cell_type": "markdown",
   "id": "a804273e-4e71-469b-8594-9f15e4e4454c",
   "metadata": {},
   "source": [
    "## Makemore manual MLP\n",
    "\n",
    "Build a MLP that does the following:\n",
    "\n",
    "- Take 3 chars and one hot encode them\n",
    "- Convert them into 3 embeddings and concat them\n",
    "- Pass it through a two layer network"
   ]
  },
  {
   "cell_type": "markdown",
   "id": "f4bd0193-ce93-46e3-80c7-f695c3cd59e2",
   "metadata": {},
   "source": [
    "### Using the functional API"
   ]
  },
  {
   "cell_type": "code",
   "execution_count": 208,
   "id": "1fd9930c-5a96-491b-a547-f51d4dbee293",
   "metadata": {},
   "outputs": [],
   "source": [
    "import torch.nn.functional as F\n",
    "import torch.nn as nn\n",
    "import matplotlib.pyplot as plt"
   ]
  },
  {
   "cell_type": "code",
   "execution_count": 209,
   "id": "3e1d77fd-8f1c-4339-b491-182988530609",
   "metadata": {},
   "outputs": [
    {
     "name": "stdout",
     "output_type": "stream",
     "text": [
      "n_params: 11897\n"
     ]
    }
   ],
   "source": [
    "g = torch.Generator().manual_seed(12345)\n",
    "dim = 10\n",
    "C = torch.randn((27, dim), generator=g)\n",
    "\n",
    "# rows = number of neurons\n",
    "# cols = number of inputs to a neuron\n",
    "W1 = torch.randn((200, 30), generator=g)\n",
    "b1 = torch.randn((200, 1), generator=g)\n",
    "W2 = torch.randn((27, 200), generator=g)\n",
    "b2 = torch.randn((27, 1), generator=g)\n",
    "parameters = [C, W1, b1, W2, b2]\n",
    "\n",
    "for p in parameters:\n",
    "    p.requires_grad = True\n",
    "\n",
    "print(f\"n_params: {sum((p.nelement() for p in parameters)) }\")"
   ]
  },
  {
   "cell_type": "code",
   "execution_count": 210,
   "id": "444f08f8-c894-4265-af80-217c9b79c2d5",
   "metadata": {},
   "outputs": [],
   "source": [
    "def training_loop(minibatch_size=200, steps=50000):\n",
    "    loss_s, step_s = [], []\n",
    "\n",
    "    for step in range(steps):\n",
    "        ix = torch.randint(0, Xtr.shape[0], (minibatch_size,))\n",
    "        embs = C[Xtr[ix]] # (min_batch , 3, 10)\n",
    "        h = torch.tanh(W1 @ embs.view((-1, 30)).T + b1) # min_batch x 200 \n",
    "        logits = W2 @ h + b2 # (min_batch, 27)\n",
    "        loss = F.cross_entropy(logits.T, Ytr[ix])\n",
    "        \n",
    "        for p in parameters:\n",
    "            p.grad = None\n",
    "        loss.backward()\n",
    "        \n",
    "        lr = 0.1 if step < 100000 else 0.01\n",
    "        for p in parameters:\n",
    "            p.data += -lr * p.grad\n",
    "        \n",
    "        step_s.append(step)\n",
    "        loss_s.append(loss.log10().item())\n",
    "\n",
    "    return loss_s, step_s\n",
    "\n",
    "loss_s, step_s = training_loop()"
   ]
  },
  {
   "cell_type": "code",
   "execution_count": 211,
   "id": "f20609f2-c903-46f6-8ed7-b351a47e35dd",
   "metadata": {},
   "outputs": [
    {
     "name": "stdout",
     "output_type": "stream",
     "text": [
      "Training loss 2.2245495319366455\n",
      "Dev loss 2.239896059036255\n"
     ]
    }
   ],
   "source": [
    "def loss(X, Y):\n",
    "    embs = C[X] # (min_batch , 3, 10)\n",
    "    h = torch.tanh(W1 @ embs.view((-1, 30)).T + b1) # min_batch x 200 \n",
    "    logits = W2 @ h + b2 # (min_batch, 27)\n",
    "    loss = F.cross_entropy(logits.T, Y)\n",
    "\n",
    "    return loss\n",
    "\n",
    "dev_l = dev_loss()\n",
    "\n",
    "print(f\"Training loss {loss(Xtr, Ytr)}\")\n",
    "print(f\"Dev loss {loss(Xdev, Ydev)}\")"
   ]
  },
  {
   "cell_type": "code",
   "execution_count": 212,
   "id": "69900575-7da1-4a1c-ab94-5e17ff4ed2fa",
   "metadata": {},
   "outputs": [
    {
     "data": {
      "text/plain": [
       "[<matplotlib.lines.Line2D at 0x7d016ccf77d0>]"
      ]
     },
     "execution_count": 212,
     "metadata": {},
     "output_type": "execute_result"
    },
    {
     "data": {
      "image/png": "[encoded data removed]",
      "text/plain": [
       "<Figure size 640x480 with 1 Axes>"
      ]
     },
     "metadata": {},
     "output_type": "display_data"
    }
   ],
   "source": []
  },
  {
   "cell_type": "code",
   "execution_count": 213,
   "id": "0805ec66-383e-46dd-b84c-f6ce7a192f76",
   "metadata": {},
   "outputs": [
    {
     "name": "stdout",
     "output_type": "stream",
     "text": [
      "kembin.\n",
      "adaxileigh.\n",
      "vadar.\n",
      "yace.\n",
      "zyin.\n",
      "treute.\n",
      "kove.\n",
      "gasia.\n",
      "batti.\n",
      "tregh.\n",
      "yoviy.\n",
      "idelin.\n",
      "arma.\n",
      "armenio.\n",
      "thide.\n",
      "makkenn.\n",
      "kamina.\n",
      "agtyl.\n",
      "azkeist.\n",
      "naleanges.\n",
      "tianesilvy.\n",
      "kharelo.\n",
      "aad.\n",
      "alanie.\n",
      "dercti.\n",
      "aeleigh.\n",
      "ronia.\n",
      "zyritterateni.\n",
      "zarilah.\n",
      "maridhleh.\n"
     ]
    }
   ],
   "source": [
    "def sample_names(n=20, block_size=3):\n",
    "    g = torch.Generator().manual_seed(1234)\n",
    "    \n",
    "    \n",
    "    for _ in range(n):\n",
    "        context = [0] * block_size\n",
    "        out = []\n",
    "        \n",
    "        while True:\n",
    "            embs = C[torch.tensor(context)] # (min_batch , 3, 10)\n",
    "            h = torch.tanh(W1 @ embs.view((-1, 30)).T + b1) # min_batch x 200 \n",
    "            logits = W2 @ h + b2 # 27, 1\n",
    "            probs = F.softmax(logits, dim=0) \n",
    "            ix = torch.multinomial(probs.view(-1), num_samples=1, generator=g).item()\n",
    "            context = context[1:] + [ix]\n",
    "            out.append(ix)\n",
    "            if ix == 0:\n",
    "                break\n",
    "                \n",
    "        print(''.join([itos[i] for i in out]))\n",
    "\n",
    "sample_names(30)"
   ]
  },
  {
   "cell_type": "markdown",
   "id": "6085435f-efe5-41d3-875f-6524c25c0999",
   "metadata": {},
   "source": [
    "## Makemore Torch MLP module"
   ]
  },
  {
   "cell_type": "code",
   "execution_count": 275,
   "id": "7126c5c0-1b9a-442b-b3c3-72745abcfa0f",
   "metadata": {},
   "outputs": [
    {
     "name": "stdout",
     "output_type": "stream",
     "text": [
      "Using cpu device\n"
     ]
    }
   ],
   "source": [
    "import torch\n",
    "import torch.nn as nn\n",
    "\n",
    "# Get cpu, gpu or mps device for training.\n",
    "device = (\n",
    "    \"cuda\"\n",
    "    if torch.cuda.is_available()\n",
    "    else \"mps\"\n",
    "    if torch.backends.mps.is_available()\n",
    "    else \"cpu\"\n",
    ")\n",
    "print(f\"Using {device} device\")"
   ]
  },
  {
   "cell_type": "code",
   "execution_count": 289,
   "id": "b066bc87-4ae9-499b-9c49-f6d6ca225c8d",
   "metadata": {},
   "outputs": [],
   "source": [
    "class MLP(nn.Module):\n",
    "    def __init__(self, input_dim=10, block_size=3):\n",
    "        \"\"\"\n",
    "        W1 = torch.randn((200, 30), generator=g)\\\n",
    "        b1 = torch.randn((200, 1), generator=g)\n",
    "        W2 = torch.randn((27, 200), generator=g)\n",
    "        b2 = torch.randn((27, 1), generator=g)\n",
    "        \"\"\"\n",
    "        super().__init__()\n",
    "        self.block_size = block_size\n",
    "        self.embedding = nn.Embedding(27, input_dim)  # Assuming vocabulary size is 100 and embedding size is 10\n",
    "        self.input_dim = input_dim\n",
    "        self.layers = nn.Sequential(\n",
    "            nn.Linear(input_dim * block_size, 200),\n",
    "            nn.Tanh(),\n",
    "            nn.Linear(200, 27)\n",
    "        )\n",
    "\n",
    "    def forward(self, x):\n",
    "        emb = self.embedding(x).view(-1, self.input_dim * self.block_size)\n",
    "        out = self.layers(emb)\n",
    "\n",
    "        return out"
   ]
  },
  {
   "cell_type": "code",
   "execution_count": 292,
   "id": "415c6ab0-c8a8-4e29-b852-e5d4e8cdc389",
   "metadata": {},
   "outputs": [
    {
     "data": {
      "text/plain": [
       "11897"
      ]
     },
     "execution_count": 292,
     "metadata": {},
     "output_type": "execute_result"
    }
   ],
   "source": [
    "sum(p.numel() for p in model.parameters())"
   ]
  },
  {
   "cell_type": "code",
   "execution_count": 291,
   "id": "f3859247-11d5-4674-8bae-f97a80d4994c",
   "metadata": {},
   "outputs": [],
   "source": [
    "model = MLP()\n",
    "criterion = nn.CrossEntropyLoss()\n",
    "optimizer = torch.optim.SGD(model.parameters(), lr=0.1)"
   ]
  },
  {
   "cell_type": "code",
   "execution_count": 293,
   "id": "b8a40004-bcda-43d2-ae86-d333d5a75ea5",
   "metadata": {},
   "outputs": [],
   "source": [
    "# Training loop\n",
    "def training_loop(minibatch_size=200, steps=50000):\n",
    "    loss_s, step_s = [], []\n",
    "\n",
    "    for step in range(steps):\n",
    "        ix = torch.randint(0, Xtr.shape[0], (minibatch_size,))\n",
    "        inputs, targets = Xtr[ix], Ytr[ix]\n",
    "\n",
    "        # Forward pass\n",
    "        logits = model(inputs)\n",
    "        loss = criterion(logits, targets)\n",
    "\n",
    "        # Backward pass and optimization\n",
    "        optimizer.zero_grad()\n",
    "        loss.backward()\n",
    "\n",
    "        # Adjust learning rate\n",
    "        lr = 0.1 if step < 100000 else 0.01\n",
    "        for param_group in optimizer.param_groups:\n",
    "            param_group['lr'] = lr\n",
    "\n",
    "        optimizer.step()\n",
    "\n",
    "        step_s.append(step)\n",
    "        loss_s.append(loss.log10().item())\n",
    "\n",
    "    return loss_s, step_s\n",
    "\n",
    "loss_s, step_s = training_loop()"
   ]
  },
  {
   "cell_type": "code",
   "execution_count": 296,
   "id": "ce07c0bb-874a-4264-b1a3-793823912ff9",
   "metadata": {},
   "outputs": [
    {
     "name": "stdout",
     "output_type": "stream",
     "text": [
      "Training loss 2.0623111724853516\n",
      "Dev loss 2.125647783279419\n"
     ]
    },
    {
     "data": {
      "text/plain": [
       "[<matplotlib.lines.Line2D at 0x7d016cfb1650>]"
      ]
     },
     "execution_count": 296,
     "metadata": {},
     "output_type": "execute_result"
    },
    {
     "data": {
      "image/png": "[encoded data removed]",
      "text/plain": [
       "<Figure size 640x480 with 1 Axes>"
      ]
     },
     "metadata": {},
     "output_type": "display_data"
    }
   ],
   "source": [
    "def loss(X, Y):\n",
    "    logits = model(X)\n",
    "    loss = F.cross_entropy(logits, Y)\n",
    "\n",
    "    return loss\n",
    "\n",
    "dev_l = dev_loss()\n",
    "\n",
    "print(f\"Training loss {loss(Xtr, Ytr)}\")\n",
    "print(f\"Dev loss {loss(Xdev, Ydev)}\")\n",
    "\n",
    "plt.plot(step_s, loss_s)"
   ]
  },
  {
   "cell_type": "code",
   "execution_count": 295,
   "id": "5ebd326d-51a1-4f0a-8c3e-5f2808acd9f9",
   "metadata": {},
   "outputs": [
    {
     "name": "stdout",
     "output_type": "stream",
     "text": [
      "kend.\n",
      "phadaliyane.\n",
      "shadar.\n",
      "yase.\n",
      "cyia.\n",
      "treutrino.\n",
      "luccous.\n",
      "braycen.\n",
      "ewer.\n",
      "jassiinnley.\n",
      "cama.\n",
      "armenio.\n",
      "whidoff.\n",
      "kionnie.\n",
      "bena.\n",
      "agnylah.\n",
      "kaislyn.\n",
      "leang.\n",
      "sevianesteverendreno.\n",
      "aad.\n",
      "has.\n",
      "terrowani.\n",
      "aeleigh.\n",
      "ron.\n",
      "aazi.\n",
      "haseem.\n",
      "emile.\n",
      "shraglo.\n",
      "kadreah.\n",
      "evey.\n"
     ]
    }
   ],
   "source": [
    "@torch.no_grad()\n",
    "def sample_names(n=20, block_size=3):\n",
    "    g = torch.Generator().manual_seed(1234)\n",
    "    \n",
    "    \n",
    "    for _ in range(n):\n",
    "        context = [0] * block_size\n",
    "        out = []\n",
    "        \n",
    "        while True:\n",
    "            logits = model(torch.tensor(context))\n",
    "            probs = F.softmax(logits, dim=1) \n",
    "            ix = torch.multinomial(probs.view(-1), num_samples=1, generator=g).item()\n",
    "            context = context[1:] + [ix]\n",
    "            out.append(ix)\n",
    "            if ix == 0:\n",
    "                break\n",
    "                \n",
    "        print(''.join([itos[i] for i in out]))\n",
    "\n",
    "sample_names(30)"
   ]
  }
 ],
 "metadata": {
  "kernelspec": {
   "display_name": "Python 3 (ipykernel)",
   "language": "python",
   "name": "python3"
  },
  "language_info": {
   "codemirror_mode": {
    "name": "ipython",
    "version": 3
   },
   "file_extension": ".py",
   "mimetype": "text/x-python",
   "name": "python",
   "nbconvert_exporter": "python",
   "pygments_lexer": "ipython3",
   "version": "3.11.5"
  }
 },
 "nbformat": 4,
 "nbformat_minor": 5
}
